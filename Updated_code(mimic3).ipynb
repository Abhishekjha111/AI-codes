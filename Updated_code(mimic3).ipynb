{
  "nbformat": 4,
  "nbformat_minor": 0,
  "metadata": {
    "colab": {
      "name": "Updated_code.ipynb",
      "provenance": [],
      "collapsed_sections": [],
      "authorship_tag": "ABX9TyOg05qSGESlT5Wx5tCk8pNI",
      "include_colab_link": true
    },
    "kernelspec": {
      "name": "python3",
      "display_name": "Python 3"
    }
  },
  "cells": [
    {
      "cell_type": "markdown",
      "metadata": {
        "id": "view-in-github",
        "colab_type": "text"
      },
      "source": [
        "<a href=\"https://colab.research.google.com/github/Abhishekjha111/AI-codes/blob/master/Updated_code(mimic3).ipynb\" target=\"_parent\"><img src=\"https://colab.research.google.com/assets/colab-badge.svg\" alt=\"Open In Colab\"/></a>"
      ]
    },
    {
      "cell_type": "code",
      "metadata": {
        "id": "LhCVEn0Qb3gC"
      },
      "source": [
        "# Importing Libraries\n",
        "import psycopg2\n",
        "import pandas as pd\n",
        "import seaborn as sns\n",
        "import matplotlib.pyplot as plt"
      ],
      "execution_count": 61,
      "outputs": []
    },
    {
      "cell_type": "code",
      "metadata": {
        "id": "bfiQSMajB8Fr",
        "colab": {
          "base_uri": "https://localhost:8080/"
        },
        "outputId": "f138d74c-48bd-420e-bb03-1ffdab67d63e"
      },
      "source": [
        "# create a database connection\n",
        "import psycopg2\n",
        "import pandas as pd\n",
        "\n",
        "con = psycopg2.connect(database=\"mimic\", user=\"datascientist\", password=\"candidate\", host=\"3.7.155.14\", port=\"5432\")\n",
        "print(\"Database opened Successfully\")"
      ],
      "execution_count": 62,
      "outputs": [
        {
          "output_type": "stream",
          "text": [
            "Database opened Successfully\n"
          ],
          "name": "stdout"
        }
      ]
    },
    {
      "cell_type": "code",
      "metadata": {
        "id": "ioRAPC_jcXVC"
      },
      "source": [
        "# Fetching the data \n",
        "query='SET search_path to mimiciii; select * from sofa '\n",
        "# DataFrame\n",
        "df=pd.read_sql_query(query,con)"
      ],
      "execution_count": 63,
      "outputs": []
    },
    {
      "cell_type": "markdown",
      "metadata": {
        "id": "fn0eAtO6ccCi"
      },
      "source": [
        "**Question 1**"
      ]
    },
    {
      "cell_type": "code",
      "metadata": {
        "colab": {
          "base_uri": "https://localhost:8080/",
          "height": 204
        },
        "id": "SQF3KDMVcrUb",
        "outputId": "d8335d25-2963-49c7-ed0a-c7584b08941d"
      },
      "source": [
        "# Elements need for calculating sofa score\n",
        "columns=['respiration','coagulation', 'liver', 'cardiovascular', 'cns', 'renal']\n",
        "# Creating DataFrame\n",
        "df_1=pd.DataFrame(df[columns])          \n",
        "# filling the null values\n",
        "df_1.fillna(0,inplace=True)\n",
        "# showing tables\n",
        "df_1.head()"
      ],
      "execution_count": 64,
      "outputs": [
        {
          "output_type": "execute_result",
          "data": {
            "text/html": [
              "<div>\n",
              "<style scoped>\n",
              "    .dataframe tbody tr th:only-of-type {\n",
              "        vertical-align: middle;\n",
              "    }\n",
              "\n",
              "    .dataframe tbody tr th {\n",
              "        vertical-align: top;\n",
              "    }\n",
              "\n",
              "    .dataframe thead th {\n",
              "        text-align: right;\n",
              "    }\n",
              "</style>\n",
              "<table border=\"1\" class=\"dataframe\">\n",
              "  <thead>\n",
              "    <tr style=\"text-align: right;\">\n",
              "      <th></th>\n",
              "      <th>respiration</th>\n",
              "      <th>coagulation</th>\n",
              "      <th>liver</th>\n",
              "      <th>cardiovascular</th>\n",
              "      <th>cns</th>\n",
              "      <th>renal</th>\n",
              "    </tr>\n",
              "  </thead>\n",
              "  <tbody>\n",
              "    <tr>\n",
              "      <th>0</th>\n",
              "      <td>0.0</td>\n",
              "      <td>1.0</td>\n",
              "      <td>0.0</td>\n",
              "      <td>1.0</td>\n",
              "      <td>1.0</td>\n",
              "      <td>3.0</td>\n",
              "    </tr>\n",
              "    <tr>\n",
              "      <th>1</th>\n",
              "      <td>2.0</td>\n",
              "      <td>1.0</td>\n",
              "      <td>2.0</td>\n",
              "      <td>1.0</td>\n",
              "      <td>0.0</td>\n",
              "      <td>0.0</td>\n",
              "    </tr>\n",
              "    <tr>\n",
              "      <th>2</th>\n",
              "      <td>0.0</td>\n",
              "      <td>0.0</td>\n",
              "      <td>0.0</td>\n",
              "      <td>1.0</td>\n",
              "      <td>0.0</td>\n",
              "      <td>0.0</td>\n",
              "    </tr>\n",
              "    <tr>\n",
              "      <th>3</th>\n",
              "      <td>0.0</td>\n",
              "      <td>0.0</td>\n",
              "      <td>0.0</td>\n",
              "      <td>1.0</td>\n",
              "      <td>0.0</td>\n",
              "      <td>0.0</td>\n",
              "    </tr>\n",
              "    <tr>\n",
              "      <th>4</th>\n",
              "      <td>0.0</td>\n",
              "      <td>2.0</td>\n",
              "      <td>0.0</td>\n",
              "      <td>1.0</td>\n",
              "      <td>0.0</td>\n",
              "      <td>0.0</td>\n",
              "    </tr>\n",
              "  </tbody>\n",
              "</table>\n",
              "</div>"
            ],
            "text/plain": [
              "   respiration  coagulation  liver  cardiovascular  cns  renal\n",
              "0          0.0          1.0    0.0             1.0  1.0    3.0\n",
              "1          2.0          1.0    2.0             1.0  0.0    0.0\n",
              "2          0.0          0.0    0.0             1.0  0.0    0.0\n",
              "3          0.0          0.0    0.0             1.0  0.0    0.0\n",
              "4          0.0          2.0    0.0             1.0  0.0    0.0"
            ]
          },
          "metadata": {
            "tags": []
          },
          "execution_count": 64
        }
      ]
    },
    {
      "cell_type": "markdown",
      "metadata": {
        "id": "zwI3yU5_cwlp"
      },
      "source": [
        "**Calculating Sofa Score**"
      ]
    },
    {
      "cell_type": "code",
      "metadata": {
        "id": "3MoFhv1yczWM"
      },
      "source": [
        "# Computing Sofa Score\n",
        "df_2=df_1.assign(score=lambda x:(x['respiration']+x['coagulation']+x['liver']+x['cardiovascular']+x['cns']+x['renal']))"
      ],
      "execution_count": 65,
      "outputs": []
    },
    {
      "cell_type": "code",
      "metadata": {
        "colab": {
          "base_uri": "https://localhost:8080/",
          "height": 204
        },
        "id": "yN18DOLfc6XG",
        "outputId": "5383031d-d7ca-4591-e3f7-1985a8a111ad"
      },
      "source": [
        "# Displaying sofa score column\n",
        "df_2.head() "
      ],
      "execution_count": 66,
      "outputs": [
        {
          "output_type": "execute_result",
          "data": {
            "text/html": [
              "<div>\n",
              "<style scoped>\n",
              "    .dataframe tbody tr th:only-of-type {\n",
              "        vertical-align: middle;\n",
              "    }\n",
              "\n",
              "    .dataframe tbody tr th {\n",
              "        vertical-align: top;\n",
              "    }\n",
              "\n",
              "    .dataframe thead th {\n",
              "        text-align: right;\n",
              "    }\n",
              "</style>\n",
              "<table border=\"1\" class=\"dataframe\">\n",
              "  <thead>\n",
              "    <tr style=\"text-align: right;\">\n",
              "      <th></th>\n",
              "      <th>respiration</th>\n",
              "      <th>coagulation</th>\n",
              "      <th>liver</th>\n",
              "      <th>cardiovascular</th>\n",
              "      <th>cns</th>\n",
              "      <th>renal</th>\n",
              "      <th>score</th>\n",
              "    </tr>\n",
              "  </thead>\n",
              "  <tbody>\n",
              "    <tr>\n",
              "      <th>0</th>\n",
              "      <td>0.0</td>\n",
              "      <td>1.0</td>\n",
              "      <td>0.0</td>\n",
              "      <td>1.0</td>\n",
              "      <td>1.0</td>\n",
              "      <td>3.0</td>\n",
              "      <td>6.0</td>\n",
              "    </tr>\n",
              "    <tr>\n",
              "      <th>1</th>\n",
              "      <td>2.0</td>\n",
              "      <td>1.0</td>\n",
              "      <td>2.0</td>\n",
              "      <td>1.0</td>\n",
              "      <td>0.0</td>\n",
              "      <td>0.0</td>\n",
              "      <td>6.0</td>\n",
              "    </tr>\n",
              "    <tr>\n",
              "      <th>2</th>\n",
              "      <td>0.0</td>\n",
              "      <td>0.0</td>\n",
              "      <td>0.0</td>\n",
              "      <td>1.0</td>\n",
              "      <td>0.0</td>\n",
              "      <td>0.0</td>\n",
              "      <td>1.0</td>\n",
              "    </tr>\n",
              "    <tr>\n",
              "      <th>3</th>\n",
              "      <td>0.0</td>\n",
              "      <td>0.0</td>\n",
              "      <td>0.0</td>\n",
              "      <td>1.0</td>\n",
              "      <td>0.0</td>\n",
              "      <td>0.0</td>\n",
              "      <td>1.0</td>\n",
              "    </tr>\n",
              "    <tr>\n",
              "      <th>4</th>\n",
              "      <td>0.0</td>\n",
              "      <td>2.0</td>\n",
              "      <td>0.0</td>\n",
              "      <td>1.0</td>\n",
              "      <td>0.0</td>\n",
              "      <td>0.0</td>\n",
              "      <td>3.0</td>\n",
              "    </tr>\n",
              "  </tbody>\n",
              "</table>\n",
              "</div>"
            ],
            "text/plain": [
              "   respiration  coagulation  liver  cardiovascular  cns  renal  score\n",
              "0          0.0          1.0    0.0             1.0  1.0    3.0    6.0\n",
              "1          2.0          1.0    2.0             1.0  0.0    0.0    6.0\n",
              "2          0.0          0.0    0.0             1.0  0.0    0.0    1.0\n",
              "3          0.0          0.0    0.0             1.0  0.0    0.0    1.0\n",
              "4          0.0          2.0    0.0             1.0  0.0    0.0    3.0"
            ]
          },
          "metadata": {
            "tags": []
          },
          "execution_count": 66
        }
      ]
    },
    {
      "cell_type": "markdown",
      "metadata": {
        "id": "iuTWZ8j0r5P9"
      },
      "source": [
        "**Visualization**"
      ]
    },
    {
      "cell_type": "code",
      "metadata": {
        "colab": {
          "base_uri": "https://localhost:8080/",
          "height": 386
        },
        "id": "g0AyPoT9dv2V",
        "outputId": "29a05cf9-f15f-46d3-e439-e7ce8ab989d5"
      },
      "source": [
        "# Plotting the Sofa score\n",
        "sns.displot(df_2,x=\"score\",binwidth=1,color=\"#1423C8\")"
      ],
      "execution_count": 67,
      "outputs": [
        {
          "output_type": "execute_result",
          "data": {
            "text/plain": [
              "<seaborn.axisgrid.FacetGrid at 0x7fb54528f7b8>"
            ]
          },
          "metadata": {
            "tags": []
          },
          "execution_count": 67
        },
        {
          "output_type": "display_data",
          "data": {
            "image/png": "[encoded data removed]",
            "text/plain": [
              "<Figure size 360x360 with 1 Axes>"
            ]
          },
          "metadata": {
            "tags": []
          }
        }
      ]
    },
    {
      "cell_type": "markdown",
      "metadata": {
        "id": "ZiUqHhqfscjh"
      },
      "source": [
        "**Question 2**"
      ]
    },
    {
      "cell_type": "code",
      "metadata": {
        "id": "0auHDXQKuIec"
      },
      "source": [
        "# Fetching the data\n",
        "query='SET search_path to mimiciii; select * from admissions '\n",
        "df=pd.read_sql_query(query,con)"
      ],
      "execution_count": 68,
      "outputs": []
    },
    {
      "cell_type": "code",
      "metadata": {
        "colab": {
          "base_uri": "https://localhost:8080/"
        },
        "id": "-Hz9sQSwypD6",
        "outputId": "ad4ac384-4d21-4702-c93d-6ee7a0b98f18"
      },
      "source": [
        "# Total Admissions\n",
        "print(\"The Total number of Admissions are {}\".format(df.shape[0]))"
      ],
      "execution_count": 69,
      "outputs": [
        {
          "output_type": "stream",
          "text": [
            "The Total number of Admissions are 58976\n"
          ],
          "name": "stdout"
        }
      ]
    },
    {
      "cell_type": "code",
      "metadata": {
        "colab": {
          "base_uri": "https://localhost:8080/"
        },
        "id": "3RTJ1ONOsa9S",
        "outputId": "1f3239f5-1764-4ed8-a978-59ae5e1e7004"
      },
      "source": [
        "print(\"The Total number of Admissions are {}\".format(df.shape[0]))"
      ],
      "execution_count": 70,
      "outputs": [
        {
          "output_type": "stream",
          "text": [
            "The Total number of Admissions are 58976\n"
          ],
          "name": "stdout"
        }
      ]
    },
    {
      "cell_type": "markdown",
      "metadata": {
        "id": "7-EGvPEOsnU5"
      },
      "source": [
        "**Question 3**"
      ]
    },
    {
      "cell_type": "code",
      "metadata": {
        "colab": {
          "base_uri": "https://localhost:8080/"
        },
        "id": "QafkVLLasqt8",
        "outputId": "9dee2314-9f27-42e2-f571-b95b12af7241"
      },
      "source": [
        "# Admissions under Energency\n",
        "percentage=(df[df.admission_type==\"EMERGENCY\"].shape[0]/df.shape[0])*100\n",
        "print(\"Percentage of Admissions was under Emergency {}\".format(round(percentage,2)))"
      ],
      "execution_count": 71,
      "outputs": [
        {
          "output_type": "stream",
          "text": [
            "Percentage of Admissions was under Emergency 71.34\n"
          ],
          "name": "stdout"
        }
      ]
    },
    {
      "cell_type": "markdown",
      "metadata": {
        "id": "Koc4nYkcugWq"
      },
      "source": [
        "**Question 4th**"
      ]
    },
    {
      "cell_type": "code",
      "metadata": {
        "colab": {
          "base_uri": "https://localhost:8080/",
          "height": 282
        },
        "id": "B-IDVE5YukVH",
        "outputId": "8919a897-ec5a-4fb5-afa9-36a2eced89f4"
      },
      "source": [
        "print(\"Counts of Various types of Admissions\")\n",
        "\n",
        "name=[\"EMERGENCY\",\"NEWBORN\",\"ELECTIVE\",\"URGENT\"]\n",
        "value=list(df.admission_type.value_counts())\n",
        "\n",
        "fig=plt.figure()\n",
        "plt.bar(name,value,color=['#DE0738',\"#5C8BF1\",\"#F36A8D\",\"#29B78B\"])\n",
        "plt.show()"
      ],
      "execution_count": 72,
      "outputs": [
        {
          "output_type": "stream",
          "text": [
            "Counts of Various types of Admissions\n"
          ],
          "name": "stdout"
        },
        {
          "output_type": "display_data",
          "data": {
            "image/png": "[encoded data removed]",
            "text/plain": [
              "<Figure size 432x288 with 1 Axes>"
            ]
          },
          "metadata": {
            "tags": []
          }
        }
      ]
    }
  ]
}