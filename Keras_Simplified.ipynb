{
  "nbformat": 4,
  "nbformat_minor": 0,
  "metadata": {
    "colab": {
      "name": "Keras_Simplified.ipynb",
      "provenance": [],
      "collapsed_sections": [],
      "include_colab_link": true
    },
    "kernelspec": {
      "name": "python3",
      "display_name": "Python 3"
    },
    "accelerator": "GPU"
  },
  "cells": [
    {
      "cell_type": "markdown",
      "metadata": {
        "id": "view-in-github",
        "colab_type": "text"
      },
      "source": [
        "<a href=\"https://colab.research.google.com/github/Abhishekjha111/AI-codes/blob/master/Keras_Simplified.ipynb\" target=\"_parent\"><img src=\"https://colab.research.google.com/assets/colab-badge.svg\" alt=\"Open In Colab\"/></a>"
      ]
    },
    {
      "cell_type": "markdown",
      "metadata": {
        "id": "83GhqtvLNFQO",
        "colab_type": "text"
      },
      "source": [
        "# Keras\n",
        "\n",
        "Keras is a high-level neural networks API, written in Python and capable of running on top of TensorFlow, CNTK, or Theano. It was developed with a focus on enabling fast experimentation. Being able to go from idea to result with the least possible delay is key to doing good research.\n",
        "\n",
        "Use Keras if you need a deep learning library that:\n",
        "\n",
        "\n",
        "\n",
        "*   Allows for easy and fast prototyping (through user friendliness, modularity, and extensibility).\n",
        "*   Supports both convolutional networks and recurrent networks, as well as combinations of the two.\n",
        "*   Runs seamlessly on CPU and GPU.\n",
        "\n",
        "\n"
      ]
    },
    {
      "cell_type": "markdown",
      "metadata": {
        "id": "qWhh_ehpluZM",
        "colab_type": "text"
      },
      "source": [
        "## Keras backends\n",
        "\n",
        "What is a \"backend\"?\n",
        "\n",
        "Keras is a model-level library, providing high-level building blocks for developing deep learning models. It does not handle itself low-level operations such as tensor products, convolutions and so on. Instead, it relies on a specialized, well-optimized tensor manipulation library to do so, serving as the \"backend engine\" of Keras. Rather than picking one single tensor library and making the implementation of Keras tied to that library, Keras handles the problem in a modular way, and several different backend engines can be plugged seamlessly into Keras.\n",
        "\n",
        "At this time, Keras has three backend implementations available: **the TensorFlow backend, the Theano backend, and the CNTK backend**.\n",
        "\n",
        "TensorFlow is an open-source symbolic tensor manipulation framework developed by Google.\n",
        "\n",
        "Theano is an open-source symbolic tensor manipulation framework developed by LISA Lab at Université de Montréal. ( No further development on this framework)\n",
        "\n",
        "CNTK is an open-source toolkit for deep learning developed by Microsoft."
      ]
    },
    {
      "cell_type": "code",
      "metadata": {
        "id": "clYg3xvabncf",
        "colab_type": "code",
        "colab": {}
      },
      "source": [
        "import tensorflow as tf"
      ],
      "execution_count": null,
      "outputs": []
    },
    {
      "cell_type": "markdown",
      "metadata": {
        "id": "6a4UfNBWay_U",
        "colab_type": "text"
      },
      "source": [
        "## Layers\n",
        "The first class you need to know is Layer. Pretty much everything in Keras derives from it.\n",
        "\n",
        "A Layer encapsulates a state (weights) and some computation (defined in the call method)."
      ]
    },
    {
      "cell_type": "code",
      "metadata": {
        "id": "XFHbwHk6a42U",
        "colab_type": "code",
        "colab": {}
      },
      "source": [
        "tf.keras.layers.Layer(\n",
        "    trainable=True, name=None, dtype=None, dynamic=False, **kwargs\n",
        ")"
      ],
      "execution_count": null,
      "outputs": []
    },
    {
      "cell_type": "markdown",
      "metadata": {
        "id": "6JhqZlBobN3n",
        "colab_type": "text"
      },
      "source": [
        "A layer is a class implementing common neural networks operations, such as convolution, batch norm, etc. These operations require managing weights, losses, updates, and inter-layer connectivity.\n",
        "\n",
        "Users will just instantiate a layer and then treat it as a callable.\n",
        "\n",
        "We recommend that descendants of Layer implement the following methods:\n",
        "\n",
        "**__init__()**: Save configuration in member variables\n",
        "\n",
        "**build()**: Called once from __call__, when we know the shapes of inputs and dtype. Should have the calls to add_weight(), and then call the super's build() (which sets self.built = True, which is nice in case the user wants to call build() manually before the first __call__).\n",
        "\n",
        "**call()**: Called in __call__ after making sure build() has been called once. Should actually perform the logic of applying the layer to the input tensors (which should be passed in as the first argument)."
      ]
    },
    {
      "cell_type": "code",
      "metadata": {
        "id": "CoFeHTTVbe3o",
        "colab_type": "code",
        "colab": {}
      },
      "source": [
        "from tensorflow.keras.layers import Layer\n",
        "\n",
        "class Linear(Layer):\n",
        "  \"\"\"y = w.x + b\"\"\"\n",
        "\n",
        "  def __init__(self, units=32, input_dim=32): # constructor\n",
        "      super(Linear, self).__init__()\n",
        "      w_init = tf.random_normal_initializer() # weight's random normal intialization\n",
        "      self.w = tf.Variable(\n",
        "          initial_value=w_init(shape=(input_dim, units), dtype='float32'),\n",
        "          trainable=True)\n",
        "      b_init = tf.zeros_initializer() # bias intialized with Zero\n",
        "      self.b = tf.Variable(\n",
        "          initial_value=b_init(shape=(units,), dtype='float32'),\n",
        "          trainable=True)\n",
        "\n",
        "  def call(self, inputs):\n",
        "      return tf.matmul(inputs, self.w) + self.b"
      ],
      "execution_count": null,
      "outputs": []
    },
    {
      "cell_type": "markdown",
      "metadata": {
        "id": "Bn47JPUmOplq",
        "colab_type": "text"
      },
      "source": [
        "### Model \n",
        "The core data structure of Keras is a model, a way to organize layers. The simplest type of model is the **Sequential model**, a linear stack of layers. For more complex architectures, you should use the Keras functional API, which allows to build arbitrary graphs of layers."
      ]
    },
    {
      "cell_type": "markdown",
      "metadata": {
        "id": "-q2biiyERX0K",
        "colab_type": "text"
      },
      "source": [
        "Here's an example of a sequential model"
      ]
    },
    {
      "cell_type": "code",
      "metadata": {
        "id": "XKRz5ktMRSyC",
        "colab_type": "code",
        "colab": {}
      },
      "source": [
        "from tensorflow.keras import Sequential\n",
        "\n",
        "model = Sequential()"
      ],
      "execution_count": null,
      "outputs": []
    },
    {
      "cell_type": "markdown",
      "metadata": {
        "id": "ho8OlNTTcxJ0",
        "colab_type": "text"
      },
      "source": [
        "## Built-in layers\n",
        "\n",
        "Keras provides you with a [wide range of built-in layers](https://www.tensorflow.org/api_docs/python/tf/keras/layers/), so that you don't have to implement your own layers all the time.\n",
        "- Dense layers\n",
        "- Convolution layers\n",
        "- Transposed convolutions\n",
        "- Separateable convolutions\n",
        "- Average and max pooling\n",
        "- Global average and max pooling\n",
        "- LSTM, GRU (with built-in cuDNN acceleration)\n",
        "- BatchNormalization\n",
        "- Dropout\n",
        "- Attention\n",
        "- ConvLSTM2D"
      ]
    },
    {
      "cell_type": "markdown",
      "metadata": {
        "id": "5Q59yJ9mRoY8",
        "colab_type": "text"
      },
      "source": [
        "Stacking is done through add()"
      ]
    },
    {
      "cell_type": "code",
      "metadata": {
        "id": "tF9hkE8kcjGS",
        "colab_type": "code",
        "colab": {
          "base_uri": "https://localhost:8080/",
          "height": 235
        },
        "outputId": "b22ce05e-f7df-473d-b2f6-c656946b6e41"
      },
      "source": [
        "from tensorflow.keras.layers import Dense\n",
        "# Optionally, the first layer can receive an `input_shape` argument:\n",
        "model = Sequential()\n",
        "model.add(Dense(32, input_shape=(500,)))\n",
        "# Afterwards, we do automatic shape inference:\n",
        "model.add(Dense(32))\n",
        "\n",
        "# This is identical to the following:\n",
        "model = Sequential()\n",
        "model.add(Dense(32, input_dim=500))\n",
        "\n",
        "# And to the following:\n",
        "model = Sequential()\n",
        "model.add(Dense(32, batch_input_shape=(None, 500)))\n",
        "\n",
        "# Note that you can also omit the `input_shape` argument:\n",
        "# In that case the model gets built the first time you call `fit` (or other\n",
        "# training and evaluation methods).\n",
        "model = Sequential()\n",
        "model.add(Dense(32))\n",
        "model.add(Dense(32))\n",
        "model.compile(optimizer=optimizer, loss=loss)\n",
        "# This builds the model for the first time:\n",
        "model.fit(x, y, batch_size=32, epochs=10)\n",
        "\n",
        "# Note that when using this delayed-build pattern (no input shape specified),\n",
        "# the model doesn't have any weights until the first call\n",
        "# to a training/evaluation method (since it isn't yet built):\n",
        "model = Sequential()\n",
        "model.add(Dense(32))\n",
        "model.add(Dense(32))\n",
        "model.weights  # returns []\n",
        "\n",
        "# Whereas if you specify the input shape, the model gets built continuously\n",
        "# as you are adding layers:\n",
        "model = Sequential()\n",
        "model.add(Dense(32, input_shape=(500,)))\n",
        "model.add(Dense(32))\n",
        "model.weights  # returns list of length 4\n",
        "\n",
        "# When using the delayed-build pattern (no input shape specified), you can\n",
        "# choose to manually build your model by calling `build(batch_input_shape)`:\n",
        "model = Sequential()\n",
        "model.add(Dense(32))\n",
        "model.add(Dense(32))\n",
        "model.build((None, 500))\n",
        "model.weights  # returns list of length 4"
      ],
      "execution_count": null,
      "outputs": [
        {
          "output_type": "error",
          "ename": "NameError",
          "evalue": "ignored",
          "traceback": [
            "\u001b[0;31m---------------------------------------------------------------------------\u001b[0m",
            "\u001b[0;31mNameError\u001b[0m                                 Traceback (most recent call last)",
            "\u001b[0;32m<ipython-input-7-534f8c1a8e58>\u001b[0m in \u001b[0;36m<module>\u001b[0;34m()\u001b[0m\n\u001b[1;32m     20\u001b[0m \u001b[0mmodel\u001b[0m\u001b[0;34m.\u001b[0m\u001b[0madd\u001b[0m\u001b[0;34m(\u001b[0m\u001b[0mDense\u001b[0m\u001b[0;34m(\u001b[0m\u001b[0;36m32\u001b[0m\u001b[0;34m)\u001b[0m\u001b[0;34m)\u001b[0m\u001b[0;34m\u001b[0m\u001b[0;34m\u001b[0m\u001b[0m\n\u001b[1;32m     21\u001b[0m \u001b[0mmodel\u001b[0m\u001b[0;34m.\u001b[0m\u001b[0madd\u001b[0m\u001b[0;34m(\u001b[0m\u001b[0mDense\u001b[0m\u001b[0;34m(\u001b[0m\u001b[0;36m32\u001b[0m\u001b[0;34m)\u001b[0m\u001b[0;34m)\u001b[0m\u001b[0;34m\u001b[0m\u001b[0;34m\u001b[0m\u001b[0m\n\u001b[0;32m---> 22\u001b[0;31m \u001b[0mmodel\u001b[0m\u001b[0;34m.\u001b[0m\u001b[0mcompile\u001b[0m\u001b[0;34m(\u001b[0m\u001b[0moptimizer\u001b[0m\u001b[0;34m=\u001b[0m\u001b[0moptimizer\u001b[0m\u001b[0;34m,\u001b[0m \u001b[0mloss\u001b[0m\u001b[0;34m=\u001b[0m\u001b[0mloss\u001b[0m\u001b[0;34m)\u001b[0m\u001b[0;34m\u001b[0m\u001b[0;34m\u001b[0m\u001b[0m\n\u001b[0m\u001b[1;32m     23\u001b[0m \u001b[0;31m# This builds the model for the first time:\u001b[0m\u001b[0;34m\u001b[0m\u001b[0;34m\u001b[0m\u001b[0;34m\u001b[0m\u001b[0m\n\u001b[1;32m     24\u001b[0m \u001b[0mmodel\u001b[0m\u001b[0;34m.\u001b[0m\u001b[0mfit\u001b[0m\u001b[0;34m(\u001b[0m\u001b[0mx\u001b[0m\u001b[0;34m,\u001b[0m \u001b[0my\u001b[0m\u001b[0;34m,\u001b[0m \u001b[0mbatch_size\u001b[0m\u001b[0;34m=\u001b[0m\u001b[0;36m32\u001b[0m\u001b[0;34m,\u001b[0m \u001b[0mepochs\u001b[0m\u001b[0;34m=\u001b[0m\u001b[0;36m10\u001b[0m\u001b[0;34m)\u001b[0m\u001b[0;34m\u001b[0m\u001b[0;34m\u001b[0m\u001b[0m\n",
            "\u001b[0;31mNameError\u001b[0m: name 'optimizer' is not defined"
          ]
        }
      ]
    },
    {
      "cell_type": "markdown",
      "metadata": {
        "id": "z3Xgjg-QR3Nj",
        "colab_type": "text"
      },
      "source": [
        "Once we build the model we configure the model's learning process with compile()"
      ]
    },
    {
      "cell_type": "code",
      "metadata": {
        "id": "JvhrZYaPSCxu",
        "colab_type": "code",
        "colab": {
          "base_uri": "https://localhost:8080/",
          "height": 218
        },
        "outputId": "6e94fb68-3c9f-4a66-9d22-4241613ffff3"
      },
      "source": [
        "compile(\n",
        "    optimizer='rmsprop', loss=None, metrics=None, loss_weights=None,\n",
        "    sample_weight_mode=None, weighted_metrics=None, target_tensors=None,\n",
        "    distribute=None, **kwargs)"
      ],
      "execution_count": null,
      "outputs": [
        {
          "output_type": "error",
          "ename": "NameError",
          "evalue": "ignored",
          "traceback": [
            "\u001b[0;31m---------------------------------------------------------------------------\u001b[0m",
            "\u001b[0;31mNameError\u001b[0m                                 Traceback (most recent call last)",
            "\u001b[0;32m<ipython-input-8-da60e894273c>\u001b[0m in \u001b[0;36m<module>\u001b[0;34m()\u001b[0m\n\u001b[1;32m      2\u001b[0m     \u001b[0moptimizer\u001b[0m\u001b[0;34m=\u001b[0m\u001b[0;34m'rmsprop'\u001b[0m\u001b[0;34m,\u001b[0m \u001b[0mloss\u001b[0m\u001b[0;34m=\u001b[0m\u001b[0;32mNone\u001b[0m\u001b[0;34m,\u001b[0m \u001b[0mmetrics\u001b[0m\u001b[0;34m=\u001b[0m\u001b[0;32mNone\u001b[0m\u001b[0;34m,\u001b[0m \u001b[0mloss_weights\u001b[0m\u001b[0;34m=\u001b[0m\u001b[0;32mNone\u001b[0m\u001b[0;34m,\u001b[0m\u001b[0;34m\u001b[0m\u001b[0;34m\u001b[0m\u001b[0m\n\u001b[1;32m      3\u001b[0m     \u001b[0msample_weight_mode\u001b[0m\u001b[0;34m=\u001b[0m\u001b[0;32mNone\u001b[0m\u001b[0;34m,\u001b[0m \u001b[0mweighted_metrics\u001b[0m\u001b[0;34m=\u001b[0m\u001b[0;32mNone\u001b[0m\u001b[0;34m,\u001b[0m \u001b[0mtarget_tensors\u001b[0m\u001b[0;34m=\u001b[0m\u001b[0;32mNone\u001b[0m\u001b[0;34m,\u001b[0m\u001b[0;34m\u001b[0m\u001b[0;34m\u001b[0m\u001b[0m\n\u001b[0;32m----> 4\u001b[0;31m     \u001b[0mdistribute\u001b[0m\u001b[0;34m=\u001b[0m\u001b[0;32mNone\u001b[0m\u001b[0;34m,\u001b[0m \u001b[0;34m**\u001b[0m\u001b[0mkwargs\u001b[0m\u001b[0;34m\u001b[0m\u001b[0;34m\u001b[0m\u001b[0m\n\u001b[0m\u001b[1;32m      5\u001b[0m )\n",
            "\u001b[0;31mNameError\u001b[0m: name 'kwargs' is not defined"
          ]
        }
      ]
    },
    {
      "cell_type": "markdown",
      "metadata": {
        "id": "Jbq3ioKYdYAV",
        "colab_type": "text"
      },
      "source": [
        "**optimizer**: String (name of optimizer) or optimizer instance. See tf.keras.optimizers.\n",
        "\n",
        "**loss**: String (name of objective function), objective function or tf.keras.losses.Loss instance. See tf.keras.losses. An objective function is any callable with the signature scalar_loss = fn(y_true, y_pred). If the model has multiple outputs, you can use a different loss on each output by passing a dictionary or a list of losses. The loss value that will be minimized by the model will then be the sum of all individual losses.\n",
        "\n",
        "**metrics**: List of metrics to be evaluated by the model during training and testing. Typically you will use metrics=['accuracy']. To specify different metrics for different outputs of a multi-output model, you could also pass a dictionary, such as metrics={'output_a': 'accuracy', 'output_b': ['accuracy', 'mse']}. You can also pass a list (len = len(outputs)) of lists of metrics such as metrics=[['accuracy'], ['accuracy', 'mse']] or metrics=['accuracy', ['accuracy', 'mse']]."
      ]
    },
    {
      "cell_type": "markdown",
      "metadata": {
        "id": "znuTR-50d1lk",
        "colab_type": "text"
      },
      "source": [
        "**evaluate()**\n",
        "\n",
        "Returns the loss value & metrics values for the model in test mode.\n",
        "\n",
        "Computation is done in batches."
      ]
    },
    {
      "cell_type": "code",
      "metadata": {
        "id": "DEBa6C7Gd8Oi",
        "colab_type": "code",
        "colab": {}
      },
      "source": [
        "evaluate(\n",
        "    x=None, y=None, batch_size=None, verbose=1, sample_weight=None, steps=None,\n",
        "    callbacks=None, max_queue_size=10, workers=1, use_multiprocessing=False\n",
        ")"
      ],
      "execution_count": null,
      "outputs": []
    },
    {
      "cell_type": "markdown",
      "metadata": {
        "id": "fk6fd32PeSLK",
        "colab_type": "text"
      },
      "source": [
        "**fit()**\n",
        "\n",
        "Trains the model for a fixed number of epochs (iterations on a dataset)."
      ]
    },
    {
      "cell_type": "code",
      "metadata": {
        "id": "AVpK4JODeUrq",
        "colab_type": "code",
        "colab": {}
      },
      "source": [
        "fit(\n",
        "    x=None, y=None, batch_size=None, epochs=1, verbose=1, callbacks=None,\n",
        "    validation_split=0.0, validation_data=None, shuffle=True, class_weight=None,\n",
        "    sample_weight=None, initial_epoch=0, steps_per_epoch=None,\n",
        "    validation_steps=None, validation_freq=1, max_queue_size=10, workers=1,\n",
        "    use_multiprocessing=False, **kwargs\n",
        ")"
      ],
      "execution_count": null,
      "outputs": []
    },
    {
      "cell_type": "markdown",
      "metadata": {
        "id": "X4vxyxjvSHL9",
        "colab_type": "text"
      },
      "source": [
        "You can now iterate on your training data in batches:"
      ]
    },
    {
      "cell_type": "code",
      "metadata": {
        "id": "2rTu5SlySapX",
        "colab_type": "code",
        "colab": {
          "base_uri": "https://localhost:8080/",
          "height": 166
        },
        "outputId": "a0ed6abe-c388-46b8-ac18-6defe7b4497a"
      },
      "source": [
        "# dummy code\n",
        "# x_train and y_train are Numpy arrays --just like in the Scikit-Learn API.\n",
        "model.fit(x_train, y_train, epochs=5, batch_size=32)"
      ],
      "execution_count": null,
      "outputs": [
        {
          "output_type": "error",
          "ename": "NameError",
          "evalue": "ignored",
          "traceback": [
            "\u001b[0;31m---------------------------------------------------------------------------\u001b[0m",
            "\u001b[0;31mNameError\u001b[0m                                 Traceback (most recent call last)",
            "\u001b[0;32m<ipython-input-6-051991f233be>\u001b[0m in \u001b[0;36m<module>\u001b[0;34m()\u001b[0m\n\u001b[0;32m----> 1\u001b[0;31m \u001b[0mmodel\u001b[0m\u001b[0;34m.\u001b[0m\u001b[0mfit\u001b[0m\u001b[0;34m(\u001b[0m\u001b[0mx_train\u001b[0m\u001b[0;34m,\u001b[0m \u001b[0my_train\u001b[0m\u001b[0;34m,\u001b[0m \u001b[0mepochs\u001b[0m\u001b[0;34m=\u001b[0m\u001b[0;36m5\u001b[0m\u001b[0;34m,\u001b[0m \u001b[0mbatch_size\u001b[0m\u001b[0;34m=\u001b[0m\u001b[0;36m32\u001b[0m\u001b[0;34m)\u001b[0m\u001b[0;34m\u001b[0m\u001b[0;34m\u001b[0m\u001b[0m\n\u001b[0m",
            "\u001b[0;31mNameError\u001b[0m: name 'x_train' is not defined"
          ]
        }
      ]
    },
    {
      "cell_type": "markdown",
      "metadata": {
        "id": "2lViHZ8kSdz9",
        "colab_type": "text"
      },
      "source": [
        "Evaluate your performance in one line:"
      ]
    },
    {
      "cell_type": "code",
      "metadata": {
        "id": "42DjEx2eSmy5",
        "colab_type": "code",
        "colab": {}
      },
      "source": [
        "loss_and_metrics = model.evaluate(x_test, y_test, batch_size=128)"
      ],
      "execution_count": null,
      "outputs": []
    },
    {
      "cell_type": "markdown",
      "metadata": {
        "id": "X857qVXkSnnv",
        "colab_type": "text"
      },
      "source": [
        "Or generate predictions on new data:"
      ]
    },
    {
      "cell_type": "code",
      "metadata": {
        "id": "Fv5nqLbhSrIe",
        "colab_type": "code",
        "colab": {}
      },
      "source": [
        "classes = model.predict(x_test, batch_size=128)"
      ],
      "execution_count": null,
      "outputs": []
    },
    {
      "cell_type": "markdown",
      "metadata": {
        "id": "IEbco6_Eq8aa",
        "colab_type": "text"
      },
      "source": [
        "### Keras MNIST Neural Net example"
      ]
    },
    {
      "cell_type": "code",
      "metadata": {
        "id": "xAUToqAfewTX",
        "colab_type": "code",
        "colab": {
          "base_uri": "https://localhost:8080/",
          "height": 783
        },
        "outputId": "6d3a0a00-b45b-4f72-ecc0-bb5f40c4f984"
      },
      "source": [
        "(x_train, y_train), (x_test, y_test) = tf.keras.datasets.mnist.load_data()\n",
        "x_train = x_train.reshape(60000, 784).astype('float32') / 255\n",
        "\n",
        "num_val_samples = 10000\n",
        "x_val = x_train[-num_val_samples:]\n",
        "y_val = y_train[-num_val_samples:]\n",
        "x_train = x_train[:-num_val_samples]\n",
        "y_train = y_train[:-num_val_samples]\n",
        "\n",
        "# Instantiate a simple classification model\n",
        "model = tf.keras.Sequential([\n",
        "  tf.keras.layers.Dense(256, activation=tf.nn.relu),\n",
        "  tf.keras.layers.Dense(256, activation=tf.nn.relu),\n",
        "  tf.keras.layers.Dense(10)\n",
        "])\n",
        "\n",
        "# Instantiate a logistic loss function that expects integer targets.\n",
        "loss = tf.keras.losses.SparseCategoricalCrossentropy(from_logits=True)\n",
        "\n",
        "# Instantiate an accuracy metric.\n",
        "accuracy = tf.keras.metrics.SparseCategoricalAccuracy()\n",
        "\n",
        "# Instantiate an optimizer.\n",
        "optimizer = tf.keras.optimizers.Adam()\n",
        "\n",
        "model.compile(optimizer=optimizer,\n",
        "              loss=loss,\n",
        "              metrics=[accuracy])\n",
        "model.fit(x_train, y_train,\n",
        "          validation_data=(x_val, y_val),\n",
        "          epochs=20,\n",
        "          batch_size=128)"
      ],
      "execution_count": null,
      "outputs": [
        {
          "output_type": "stream",
          "text": [
            "Downloading data from https://storage.googleapis.com/tensorflow/tf-keras-datasets/mnist.npz\n",
            "11493376/11490434 [==============================] - 0s 0us/step\n",
            "Epoch 1/20\n",
            "391/391 [==============================] - 1s 3ms/step - loss: 0.2844 - sparse_categorical_accuracy: 0.9168 - val_loss: 0.1291 - val_sparse_categorical_accuracy: 0.9625\n",
            "Epoch 2/20\n",
            "391/391 [==============================] - 1s 3ms/step - loss: 0.1061 - sparse_categorical_accuracy: 0.9668 - val_loss: 0.1025 - val_sparse_categorical_accuracy: 0.9692\n",
            "Epoch 3/20\n",
            "391/391 [==============================] - 1s 3ms/step - loss: 0.0667 - sparse_categorical_accuracy: 0.9799 - val_loss: 0.0899 - val_sparse_categorical_accuracy: 0.9740\n",
            "Epoch 4/20\n",
            "391/391 [==============================] - 1s 3ms/step - loss: 0.0483 - sparse_categorical_accuracy: 0.9850 - val_loss: 0.0914 - val_sparse_categorical_accuracy: 0.9739\n",
            "Epoch 5/20\n",
            "391/391 [==============================] - 1s 3ms/step - loss: 0.0350 - sparse_categorical_accuracy: 0.9891 - val_loss: 0.0923 - val_sparse_categorical_accuracy: 0.9739\n",
            "Epoch 6/20\n",
            "391/391 [==============================] - 1s 3ms/step - loss: 0.0265 - sparse_categorical_accuracy: 0.9916 - val_loss: 0.0807 - val_sparse_categorical_accuracy: 0.9768\n",
            "Epoch 7/20\n",
            "391/391 [==============================] - 1s 3ms/step - loss: 0.0201 - sparse_categorical_accuracy: 0.9935 - val_loss: 0.0941 - val_sparse_categorical_accuracy: 0.9739\n",
            "Epoch 8/20\n",
            "391/391 [==============================] - 1s 3ms/step - loss: 0.0152 - sparse_categorical_accuracy: 0.9951 - val_loss: 0.1084 - val_sparse_categorical_accuracy: 0.9717\n",
            "Epoch 9/20\n",
            "391/391 [==============================] - 1s 3ms/step - loss: 0.0165 - sparse_categorical_accuracy: 0.9944 - val_loss: 0.0884 - val_sparse_categorical_accuracy: 0.9776\n",
            "Epoch 10/20\n",
            "391/391 [==============================] - 1s 3ms/step - loss: 0.0142 - sparse_categorical_accuracy: 0.9950 - val_loss: 0.0978 - val_sparse_categorical_accuracy: 0.9766\n",
            "Epoch 11/20\n",
            "391/391 [==============================] - 1s 3ms/step - loss: 0.0126 - sparse_categorical_accuracy: 0.9955 - val_loss: 0.1034 - val_sparse_categorical_accuracy: 0.9773\n",
            "Epoch 12/20\n",
            "391/391 [==============================] - 1s 3ms/step - loss: 0.0156 - sparse_categorical_accuracy: 0.9947 - val_loss: 0.1000 - val_sparse_categorical_accuracy: 0.9786\n",
            "Epoch 13/20\n",
            "391/391 [==============================] - 1s 3ms/step - loss: 0.0066 - sparse_categorical_accuracy: 0.9978 - val_loss: 0.1025 - val_sparse_categorical_accuracy: 0.9791\n",
            "Epoch 14/20\n",
            "391/391 [==============================] - 1s 3ms/step - loss: 0.0068 - sparse_categorical_accuracy: 0.9976 - val_loss: 0.1333 - val_sparse_categorical_accuracy: 0.9736\n",
            "Epoch 15/20\n",
            "391/391 [==============================] - 1s 3ms/step - loss: 0.0117 - sparse_categorical_accuracy: 0.9959 - val_loss: 0.1084 - val_sparse_categorical_accuracy: 0.9770\n",
            "Epoch 16/20\n",
            "391/391 [==============================] - 1s 3ms/step - loss: 0.0097 - sparse_categorical_accuracy: 0.9967 - val_loss: 0.1207 - val_sparse_categorical_accuracy: 0.9762\n",
            "Epoch 17/20\n",
            "391/391 [==============================] - 1s 3ms/step - loss: 0.0072 - sparse_categorical_accuracy: 0.9975 - val_loss: 0.1366 - val_sparse_categorical_accuracy: 0.9756\n",
            "Epoch 18/20\n",
            "391/391 [==============================] - 1s 3ms/step - loss: 0.0068 - sparse_categorical_accuracy: 0.9977 - val_loss: 0.1229 - val_sparse_categorical_accuracy: 0.9764\n",
            "Epoch 19/20\n",
            "391/391 [==============================] - 1s 3ms/step - loss: 0.0078 - sparse_categorical_accuracy: 0.9970 - val_loss: 0.1152 - val_sparse_categorical_accuracy: 0.9781\n",
            "Epoch 20/20\n",
            "391/391 [==============================] - 1s 3ms/step - loss: 0.0032 - sparse_categorical_accuracy: 0.9991 - val_loss: 0.1105 - val_sparse_categorical_accuracy: 0.9803\n"
          ],
          "name": "stdout"
        },
        {
          "output_type": "execute_result",
          "data": {
            "text/plain": [
              "<tensorflow.python.keras.callbacks.History at 0x7fe6cf835358>"
            ]
          },
          "metadata": {
            "tags": []
          },
          "execution_count": 9
        }
      ]
    },
    {
      "cell_type": "markdown",
      "metadata": {
        "id": "DgjwTFnBfqcB",
        "colab_type": "text"
      },
      "source": [
        "## Building a Neural Network for Regression Task"
      ]
    },
    {
      "cell_type": "code",
      "metadata": {
        "id": "rN2NH7ACfvIq",
        "colab_type": "code",
        "colab": {
          "base_uri": "https://localhost:8080/",
          "height": 72
        },
        "outputId": "2bbad861-3b75-4643-bd63-5316ad04382b"
      },
      "source": [
        "import pandas as pd\n",
        "import numpy as np\n",
        "import tensorflow as tf\n",
        "\n",
        "import matplotlib.pyplot as plt\n",
        "%matplotlib inline\n",
        "\n",
        "import seaborn as sns\n",
        "sns.set(style=\"darkgrid\")\n",
        "from tensorflow.keras.layers import Input, Dense\n",
        "from tensorflow.keras.models import Model"
      ],
      "execution_count": null,
      "outputs": [
        {
          "output_type": "stream",
          "text": [
            "/usr/local/lib/python3.6/dist-packages/statsmodels/tools/_testing.py:19: FutureWarning: pandas.util.testing is deprecated. Use the functions in the public API at pandas.testing instead.\n",
            "  import pandas.util.testing as tm\n"
          ],
          "name": "stderr"
        }
      ]
    },
    {
      "cell_type": "code",
      "metadata": {
        "id": "KKA7U8vGf3G1",
        "colab_type": "code",
        "colab": {
          "resources": {
            "http://localhost:8080/nbextensions/google.colab/files.js": {
              "data": "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",
              "ok": true,
              "headers": [
                [
                  "content-type",
                  "application/javascript"
                ]
              ],
              "status": 200,
              "status_text": ""
            }
          },
          "base_uri": "https://localhost:8080/",
          "height": 91
        },
        "outputId": "9bb4a10a-e752-46bc-a97f-a4e3a8ef7176"
      },
      "source": [
        "from google.colab import files\n",
        "\n",
        "uploaded = files.upload()\n",
        "\n",
        "for fn in uploaded.keys():\n",
        "  print('User uploaded file \"{name}\" with length {length} bytes'.format(\n",
        "      name=fn, length=len(uploaded[fn])))"
      ],
      "execution_count": null,
      "outputs": [
        {
          "output_type": "display_data",
          "data": {
            "text/html": [
              "\n",
              "     <input type=\"file\" id=\"files-78eb3193-0832-466f-be51-65403cf6b82f\" name=\"files[]\" multiple disabled\n",
              "        style=\"border:none\" />\n",
              "     <output id=\"result-78eb3193-0832-466f-be51-65403cf6b82f\">\n",
              "      Upload widget is only available when the cell has been executed in the\n",
              "      current browser session. Please rerun this cell to enable.\n",
              "      </output>\n",
              "      <script src=\"/nbextensions/google.colab/files.js\"></script> "
            ],
            "text/plain": [
              "<IPython.core.display.HTML object>"
            ]
          },
          "metadata": {
            "tags": []
          }
        },
        {
          "output_type": "stream",
          "text": [
            "Saving petrol_consumption.csv to petrol_consumption.csv\n",
            "User uploaded file \"petrol_consumption.csv\" with length 1389 bytes\n"
          ],
          "name": "stdout"
        }
      ]
    },
    {
      "cell_type": "code",
      "metadata": {
        "id": "HO2V_QUff-rl",
        "colab_type": "code",
        "colab": {}
      },
      "source": [
        "petrol_cons = pd.read_csv(r'petrol_consumption.csv')"
      ],
      "execution_count": null,
      "outputs": []
    },
    {
      "cell_type": "code",
      "metadata": {
        "id": "4JK4q-sXgAz4",
        "colab_type": "code",
        "colab": {
          "base_uri": "https://localhost:8080/",
          "height": 202
        },
        "outputId": "b6dea9e0-a189-478a-d02b-f66d4a569da0"
      },
      "source": [
        "petrol_cons.head()"
      ],
      "execution_count": null,
      "outputs": [
        {
          "output_type": "execute_result",
          "data": {
            "text/html": [
              "<div>\n",
              "<style scoped>\n",
              "    .dataframe tbody tr th:only-of-type {\n",
              "        vertical-align: middle;\n",
              "    }\n",
              "\n",
              "    .dataframe tbody tr th {\n",
              "        vertical-align: top;\n",
              "    }\n",
              "\n",
              "    .dataframe thead th {\n",
              "        text-align: right;\n",
              "    }\n",
              "</style>\n",
              "<table border=\"1\" class=\"dataframe\">\n",
              "  <thead>\n",
              "    <tr style=\"text-align: right;\">\n",
              "      <th></th>\n",
              "      <th>Petrol_tax</th>\n",
              "      <th>Average_income</th>\n",
              "      <th>Paved_Highways</th>\n",
              "      <th>Population_Driver_licence(%)</th>\n",
              "      <th>Petrol_Consumption</th>\n",
              "    </tr>\n",
              "  </thead>\n",
              "  <tbody>\n",
              "    <tr>\n",
              "      <th>0</th>\n",
              "      <td>9.0</td>\n",
              "      <td>3571</td>\n",
              "      <td>1976</td>\n",
              "      <td>0.525</td>\n",
              "      <td>541</td>\n",
              "    </tr>\n",
              "    <tr>\n",
              "      <th>1</th>\n",
              "      <td>9.0</td>\n",
              "      <td>4092</td>\n",
              "      <td>1250</td>\n",
              "      <td>0.572</td>\n",
              "      <td>524</td>\n",
              "    </tr>\n",
              "    <tr>\n",
              "      <th>2</th>\n",
              "      <td>9.0</td>\n",
              "      <td>3865</td>\n",
              "      <td>1586</td>\n",
              "      <td>0.580</td>\n",
              "      <td>561</td>\n",
              "    </tr>\n",
              "    <tr>\n",
              "      <th>3</th>\n",
              "      <td>7.5</td>\n",
              "      <td>4870</td>\n",
              "      <td>2351</td>\n",
              "      <td>0.529</td>\n",
              "      <td>414</td>\n",
              "    </tr>\n",
              "    <tr>\n",
              "      <th>4</th>\n",
              "      <td>8.0</td>\n",
              "      <td>4399</td>\n",
              "      <td>431</td>\n",
              "      <td>0.544</td>\n",
              "      <td>410</td>\n",
              "    </tr>\n",
              "  </tbody>\n",
              "</table>\n",
              "</div>"
            ],
            "text/plain": [
              "   Petrol_tax  Average_income  ...  Population_Driver_licence(%)  Petrol_Consumption\n",
              "0         9.0            3571  ...                         0.525                 541\n",
              "1         9.0            4092  ...                         0.572                 524\n",
              "2         9.0            3865  ...                         0.580                 561\n",
              "3         7.5            4870  ...                         0.529                 414\n",
              "4         8.0            4399  ...                         0.544                 410\n",
              "\n",
              "[5 rows x 5 columns]"
            ]
          },
          "metadata": {
            "tags": []
          },
          "execution_count": 13
        }
      ]
    },
    {
      "cell_type": "markdown",
      "metadata": {
        "id": "_oQ1-6r0gINl",
        "colab_type": "text"
      },
      "source": [
        "One can see that there are five columns in the dataset. The regression model will be trained on the first four columns, i.e. Petrol_tax, Average_income, Paved_Highways, & Population_Driver_License. The value for the last column i.e. Petrol_Consumption will be predicted (Y). "
      ]
    },
    {
      "cell_type": "code",
      "metadata": {
        "id": "rVS79Sh7gKDm",
        "colab_type": "code",
        "colab": {}
      },
      "source": [
        "X = petrol_cons.iloc[:, 0:4].values\n",
        "y = petrol_cons.iloc[:, 4].values\n",
        "\n",
        "from sklearn.model_selection import train_test_split\n",
        "\n",
        "X_train, X_test, y_train, y_test = train_test_split(X, y, test_size=0.2, random_state=0)\n",
        "\n",
        "from sklearn.preprocessing import StandardScaler\n",
        "\n",
        "sc = StandardScaler()\n",
        "X_train = sc.fit_transform(X_train)\n",
        "X_test = sc.transform(X_test)"
      ],
      "execution_count": null,
      "outputs": []
    },
    {
      "cell_type": "code",
      "metadata": {
        "id": "Lc5emwPYvQ-i",
        "colab_type": "code",
        "colab": {
          "base_uri": "https://localhost:8080/",
          "height": 1000
        },
        "outputId": "9a4d3cf6-80e6-49b0-d0e5-d69e82e60935"
      },
      "source": [
        "X_train"
      ],
      "execution_count": null,
      "outputs": [
        {
          "output_type": "execute_result",
          "data": {
            "text/plain": [
              "array([[-1.32525691e-01,  1.50577399e+00,  2.25854636e+00,\n",
              "        -9.15791057e-01],\n",
              "       [-6.28192647e-01, -1.83367022e+00,  2.12333843e-01,\n",
              "        -1.12852703e+00],\n",
              "       [-1.32525691e-01, -1.78897047e+00, -4.54194551e-01,\n",
              "        -5.25775100e-01],\n",
              "       [-1.32525691e-01, -8.78212954e-01,  8.77245103e-01,\n",
              "         4.15208375e-02],\n",
              "       [-6.28192647e-01,  1.27482526e+00,  1.07480487e+00,\n",
              "         2.89712810e-01],\n",
              "       [ 1.35447518e+00, -8.42825648e-01, -1.13743332e+00,\n",
              "         5.92488356e-02],\n",
              "       [-6.28192647e-01, -4.00925436e-02, -4.64436395e-01,\n",
              "         8.21552752e-01],\n",
              "       [-6.28192647e-01,  7.42153173e-01,  2.93282707e-02,\n",
              "         2.61208055e+00],\n",
              "       [-6.28192647e-01,  8.82232011e-04,  1.22196399e+00,\n",
              "         1.65616824e-01],\n",
              "       [ 3.63141265e-01, -2.41241442e-01,  4.54996025e-02,\n",
              "        -2.42127131e-01],\n",
              "       [ 1.35447518e+00,  1.07926383e+00, -9.04835665e-01,\n",
              "        -1.16398303e+00],\n",
              "       [-6.28192647e-01, -2.07716626e-01,  7.28199328e-01,\n",
              "        -8.25751488e-02],\n",
              "       [-6.28192647e-01, -1.23208602e+00, -4.90849570e-01,\n",
              "        -2.42127131e-01],\n",
              "       [-6.28192647e-01,  5.13066928e-01,  5.46541367e-01,\n",
              "         1.53067267e+00],\n",
              "       [-6.28192647e-01, -3.26425844e-02, -5.85182339e-01,\n",
              "         4.66992791e-01],\n",
              "       [ 3.63141265e-01,  2.41143416e-01,  7.46796360e-01,\n",
              "        -8.44879065e-01],\n",
              "       [-6.28192647e-01, -2.05854136e-01,  2.08560532e-01,\n",
              "        -5.61231096e-01],\n",
              "       [ 1.35447518e+00, -1.11102418e+00, -2.85743178e-01,\n",
              "        -5.78959094e-01],\n",
              "       [ 2.34580909e+00,  1.90807179e+00, -1.20562244e+00,\n",
              "        -1.00303147e-01],\n",
              "       [-6.28192647e-01, -1.11661165e+00, -2.91403144e-01,\n",
              "        -6.49871086e-01],\n",
              "       [-1.04455289e+00, -9.60162506e-01,  5.46541367e-01,\n",
              "         9.27920740e-01],\n",
              "       [-6.28192647e-01,  2.69570892e-02,  6.34136081e-01,\n",
              "         5.55632781e-01],\n",
              "       [ 8.58808221e-01, -1.27119830e+00, -6.82479852e-01,\n",
              "         1.53067267e+00],\n",
              "       [ 1.35447518e+00, -4.20040463e-01, -1.22799278e+00,\n",
              "        -8.25751488e-02],\n",
              "       [-6.28192647e-01,  9.30264643e-01,  3.02893301e-01,\n",
              "        -4.71191527e-02],\n",
              "       [-6.28192647e-01, -1.06632442e+00, -8.61173069e-01,\n",
              "        -1.21716702e+00],\n",
              "       [ 8.58808221e-01,  4.77679621e-01, -8.59016891e-01,\n",
              "        -4.54863108e-01],\n",
              "       [ 3.63141265e-01,  1.86523452e+00,  1.63379391e+00,\n",
              "        -2.22766291e+00],\n",
              "       [ 1.35447518e+00, -1.10867156e-01, -3.01914510e-01,\n",
              "        -1.05761504e+00],\n",
              "       [-2.61086047e+00, -5.07577484e-01,  3.22774818e+00,\n",
              "        -1.88943137e-01],\n",
              "       [ 3.63141265e-01,  1.23943795e+00, -1.40264316e+00,\n",
              "         4.49264793e-01],\n",
              "       [ 8.58808221e-01,  4.37194975e-02,  5.49328794e-02,\n",
              "         1.77886465e+00],\n",
              "       [-6.28192647e-01,  3.62205254e-01,  7.27929806e-01,\n",
              "        -4.37135110e-01],\n",
              "       [-6.28192647e-01,  5.11694567e-02, -5.12411346e-01,\n",
              "         1.69022466e+00],\n",
              "       [ 1.35447518e+00,  2.95155621e-01, -5.02439024e-01,\n",
              "        -1.00303147e-01],\n",
              "       [-1.32525691e-01,  1.02897660e+00, -9.31248840e-01,\n",
              "        -8.44879065e-01],\n",
              "       [ 1.35447518e+00, -1.39039765e+00, -1.03231966e+00,\n",
              "        -9.15791057e-01],\n",
              "       [-1.61952656e+00,  1.67153558e+00, -9.44455428e-01,\n",
              "         1.69022466e+00]])"
            ]
          },
          "metadata": {
            "tags": []
          },
          "execution_count": 15
        }
      ]
    },
    {
      "cell_type": "code",
      "metadata": {
        "id": "onCzENoRgObK",
        "colab_type": "code",
        "colab": {}
      },
      "source": [
        "input_layer = Input(shape=(X.shape[1],))\n",
        "dense_layer_1 = Dense(100, activation='relu')(input_layer)\n",
        "dense_layer_2 = Dense(50, activation='relu')(dense_layer_1)\n",
        "dense_layer_3 = Dense(25, activation='relu')(dense_layer_2)\n",
        "output = Dense(1)(dense_layer_3)\n",
        "\n",
        "model = Model(inputs=input_layer, outputs=output)\n",
        "model.compile(loss=\"mean_squared_error\" , optimizer=\"adam\", metrics=[\"mean_squared_error\"])"
      ],
      "execution_count": null,
      "outputs": []
    },
    {
      "cell_type": "code",
      "metadata": {
        "id": "IKqfasUEgVES",
        "colab_type": "code",
        "colab": {
          "base_uri": "https://localhost:8080/",
          "height": 1000
        },
        "outputId": "0804aeb9-0fa7-4236-bab6-fea54248a275"
      },
      "source": [
        "history = model.fit(X_train, y_train, batch_size=2, epochs=100, verbose=1, validation_split=0.2)"
      ],
      "execution_count": null,
      "outputs": [
        {
          "output_type": "stream",
          "text": [
            "Epoch 1/100\n",
            "15/15 [==============================] - 0s 7ms/step - loss: 341545.7188 - mean_squared_error: 341545.7188 - val_loss: 402069.2188 - val_mean_squared_error: 402069.2188\n",
            "Epoch 2/100\n",
            "15/15 [==============================] - 0s 3ms/step - loss: 340839.5312 - mean_squared_error: 340839.5312 - val_loss: 401090.5625 - val_mean_squared_error: 401090.5625\n",
            "Epoch 3/100\n",
            "15/15 [==============================] - 0s 3ms/step - loss: 339662.1250 - mean_squared_error: 339662.1250 - val_loss: 399357.5312 - val_mean_squared_error: 399357.5312\n",
            "Epoch 4/100\n",
            "15/15 [==============================] - 0s 4ms/step - loss: 337336.1875 - mean_squared_error: 337336.1875 - val_loss: 396034.7500 - val_mean_squared_error: 396034.7500\n",
            "Epoch 5/100\n",
            "15/15 [==============================] - 0s 3ms/step - loss: 332822.6562 - mean_squared_error: 332822.6562 - val_loss: 389813.3438 - val_mean_squared_error: 389813.3438\n",
            "Epoch 6/100\n",
            "15/15 [==============================] - 0s 4ms/step - loss: 324149.9688 - mean_squared_error: 324149.9688 - val_loss: 378654.0000 - val_mean_squared_error: 378654.0000\n",
            "Epoch 7/100\n",
            "15/15 [==============================] - 0s 4ms/step - loss: 309128.8438 - mean_squared_error: 309128.8438 - val_loss: 359429.8438 - val_mean_squared_error: 359429.8438\n",
            "Epoch 8/100\n",
            "15/15 [==============================] - 0s 4ms/step - loss: 282474.7812 - mean_squared_error: 282474.7812 - val_loss: 329188.8125 - val_mean_squared_error: 329188.8125\n",
            "Epoch 9/100\n",
            "15/15 [==============================] - 0s 4ms/step - loss: 244164.5156 - mean_squared_error: 244164.5156 - val_loss: 285140.2500 - val_mean_squared_error: 285140.2500\n",
            "Epoch 10/100\n",
            "15/15 [==============================] - 0s 4ms/step - loss: 191051.5312 - mean_squared_error: 191051.5312 - val_loss: 229049.0000 - val_mean_squared_error: 229049.0000\n",
            "Epoch 11/100\n",
            "15/15 [==============================] - 0s 4ms/step - loss: 131882.8906 - mean_squared_error: 131882.8906 - val_loss: 165369.6094 - val_mean_squared_error: 165369.6094\n",
            "Epoch 12/100\n",
            "15/15 [==============================] - 0s 3ms/step - loss: 73775.4844 - mean_squared_error: 73775.4844 - val_loss: 108908.4453 - val_mean_squared_error: 108908.4453\n",
            "Epoch 13/100\n",
            "15/15 [==============================] - 0s 3ms/step - loss: 37593.5664 - mean_squared_error: 37593.5664 - val_loss: 71071.4844 - val_mean_squared_error: 71071.4844\n",
            "Epoch 14/100\n",
            "15/15 [==============================] - 0s 3ms/step - loss: 23946.4980 - mean_squared_error: 23946.4980 - val_loss: 50082.5078 - val_mean_squared_error: 50082.5078\n",
            "Epoch 15/100\n",
            "15/15 [==============================] - 0s 3ms/step - loss: 20386.3438 - mean_squared_error: 20386.3438 - val_loss: 38495.0273 - val_mean_squared_error: 38495.0273\n",
            "Epoch 16/100\n",
            "15/15 [==============================] - 0s 3ms/step - loss: 18404.8125 - mean_squared_error: 18404.8125 - val_loss: 33222.2773 - val_mean_squared_error: 33222.2773\n",
            "Epoch 17/100\n",
            "15/15 [==============================] - 0s 3ms/step - loss: 15272.5156 - mean_squared_error: 15272.5156 - val_loss: 27107.2520 - val_mean_squared_error: 27107.2520\n",
            "Epoch 18/100\n",
            "15/15 [==============================] - 0s 3ms/step - loss: 14523.9268 - mean_squared_error: 14523.9268 - val_loss: 24974.9023 - val_mean_squared_error: 24974.9023\n",
            "Epoch 19/100\n",
            "15/15 [==============================] - 0s 3ms/step - loss: 12226.2129 - mean_squared_error: 12226.2129 - val_loss: 20821.4785 - val_mean_squared_error: 20821.4785\n",
            "Epoch 20/100\n",
            "15/15 [==============================] - 0s 3ms/step - loss: 11169.6807 - mean_squared_error: 11169.6807 - val_loss: 18580.9746 - val_mean_squared_error: 18580.9746\n",
            "Epoch 21/100\n",
            "15/15 [==============================] - 0s 4ms/step - loss: 10519.9619 - mean_squared_error: 10519.9619 - val_loss: 16018.4551 - val_mean_squared_error: 16018.4551\n",
            "Epoch 22/100\n",
            "15/15 [==============================] - 0s 3ms/step - loss: 9600.8662 - mean_squared_error: 9600.8662 - val_loss: 15953.7578 - val_mean_squared_error: 15953.7578\n",
            "Epoch 23/100\n",
            "15/15 [==============================] - 0s 3ms/step - loss: 9035.3643 - mean_squared_error: 9035.3643 - val_loss: 14102.4014 - val_mean_squared_error: 14102.4014\n",
            "Epoch 24/100\n",
            "15/15 [==============================] - 0s 4ms/step - loss: 8364.0283 - mean_squared_error: 8364.0283 - val_loss: 13406.9229 - val_mean_squared_error: 13406.9229\n",
            "Epoch 25/100\n",
            "15/15 [==============================] - 0s 3ms/step - loss: 7856.1304 - mean_squared_error: 7856.1304 - val_loss: 13080.8271 - val_mean_squared_error: 13080.8271\n",
            "Epoch 26/100\n",
            "15/15 [==============================] - 0s 3ms/step - loss: 7442.9468 - mean_squared_error: 7442.9468 - val_loss: 11643.3115 - val_mean_squared_error: 11643.3115\n",
            "Epoch 27/100\n",
            "15/15 [==============================] - 0s 3ms/step - loss: 7072.7900 - mean_squared_error: 7072.7900 - val_loss: 11500.8311 - val_mean_squared_error: 11500.8311\n",
            "Epoch 28/100\n",
            "15/15 [==============================] - 0s 3ms/step - loss: 6984.4438 - mean_squared_error: 6984.4438 - val_loss: 11754.2705 - val_mean_squared_error: 11754.2705\n",
            "Epoch 29/100\n",
            "15/15 [==============================] - 0s 3ms/step - loss: 6492.5625 - mean_squared_error: 6492.5625 - val_loss: 10731.7510 - val_mean_squared_error: 10731.7510\n",
            "Epoch 30/100\n",
            "15/15 [==============================] - 0s 4ms/step - loss: 6076.3037 - mean_squared_error: 6076.3037 - val_loss: 10733.6699 - val_mean_squared_error: 10733.6699\n",
            "Epoch 31/100\n",
            "15/15 [==============================] - 0s 3ms/step - loss: 5946.3169 - mean_squared_error: 5946.3169 - val_loss: 11067.1328 - val_mean_squared_error: 11067.1328\n",
            "Epoch 32/100\n",
            "15/15 [==============================] - 0s 3ms/step - loss: 5567.5059 - mean_squared_error: 5567.5059 - val_loss: 10167.9971 - val_mean_squared_error: 10167.9971\n",
            "Epoch 33/100\n",
            "15/15 [==============================] - 0s 3ms/step - loss: 5340.3799 - mean_squared_error: 5340.3799 - val_loss: 10143.3262 - val_mean_squared_error: 10143.3262\n",
            "Epoch 34/100\n",
            "15/15 [==============================] - 0s 3ms/step - loss: 5040.2314 - mean_squared_error: 5040.2314 - val_loss: 10234.6729 - val_mean_squared_error: 10234.6729\n",
            "Epoch 35/100\n",
            "15/15 [==============================] - 0s 3ms/step - loss: 4853.2861 - mean_squared_error: 4853.2861 - val_loss: 9994.6270 - val_mean_squared_error: 9994.6270\n",
            "Epoch 36/100\n",
            "15/15 [==============================] - 0s 3ms/step - loss: 4696.6143 - mean_squared_error: 4696.6143 - val_loss: 9751.0898 - val_mean_squared_error: 9751.0898\n",
            "Epoch 37/100\n",
            "15/15 [==============================] - 0s 3ms/step - loss: 4488.5884 - mean_squared_error: 4488.5884 - val_loss: 10103.6533 - val_mean_squared_error: 10103.6533\n",
            "Epoch 38/100\n",
            "15/15 [==============================] - 0s 3ms/step - loss: 4277.5884 - mean_squared_error: 4277.5884 - val_loss: 9926.4111 - val_mean_squared_error: 9926.4111\n",
            "Epoch 39/100\n",
            "15/15 [==============================] - 0s 4ms/step - loss: 4180.3608 - mean_squared_error: 4180.3608 - val_loss: 9860.3154 - val_mean_squared_error: 9860.3154\n",
            "Epoch 40/100\n",
            "15/15 [==============================] - 0s 4ms/step - loss: 4050.2917 - mean_squared_error: 4050.2917 - val_loss: 9751.5508 - val_mean_squared_error: 9751.5508\n",
            "Epoch 41/100\n",
            "15/15 [==============================] - 0s 3ms/step - loss: 4043.9763 - mean_squared_error: 4043.9763 - val_loss: 10180.8896 - val_mean_squared_error: 10180.8896\n",
            "Epoch 42/100\n",
            "15/15 [==============================] - 0s 3ms/step - loss: 3726.1704 - mean_squared_error: 3726.1704 - val_loss: 9943.0498 - val_mean_squared_error: 9943.0498\n",
            "Epoch 43/100\n",
            "15/15 [==============================] - 0s 4ms/step - loss: 3561.2229 - mean_squared_error: 3561.2229 - val_loss: 9639.4629 - val_mean_squared_error: 9639.4629\n",
            "Epoch 44/100\n",
            "15/15 [==============================] - 0s 3ms/step - loss: 3579.6292 - mean_squared_error: 3579.6292 - val_loss: 9712.3662 - val_mean_squared_error: 9712.3662\n",
            "Epoch 45/100\n",
            "15/15 [==============================] - 0s 3ms/step - loss: 3361.2600 - mean_squared_error: 3361.2600 - val_loss: 9969.6309 - val_mean_squared_error: 9969.6309\n",
            "Epoch 46/100\n",
            "15/15 [==============================] - 0s 3ms/step - loss: 3294.4409 - mean_squared_error: 3294.4409 - val_loss: 9896.0186 - val_mean_squared_error: 9896.0186\n",
            "Epoch 47/100\n",
            "15/15 [==============================] - 0s 3ms/step - loss: 3196.4382 - mean_squared_error: 3196.4382 - val_loss: 9771.1729 - val_mean_squared_error: 9771.1729\n",
            "Epoch 48/100\n",
            "15/15 [==============================] - 0s 3ms/step - loss: 3142.9795 - mean_squared_error: 3142.9795 - val_loss: 9858.8320 - val_mean_squared_error: 9858.8320\n",
            "Epoch 49/100\n",
            "15/15 [==============================] - 0s 4ms/step - loss: 3003.9934 - mean_squared_error: 3003.9934 - val_loss: 9751.4102 - val_mean_squared_error: 9751.4102\n",
            "Epoch 50/100\n",
            "15/15 [==============================] - 0s 4ms/step - loss: 2917.0769 - mean_squared_error: 2917.0769 - val_loss: 9778.6006 - val_mean_squared_error: 9778.6006\n",
            "Epoch 51/100\n",
            "15/15 [==============================] - 0s 4ms/step - loss: 2889.3833 - mean_squared_error: 2889.3833 - val_loss: 9952.5693 - val_mean_squared_error: 9952.5693\n",
            "Epoch 52/100\n",
            "15/15 [==============================] - 0s 4ms/step - loss: 2791.9717 - mean_squared_error: 2791.9717 - val_loss: 9897.9775 - val_mean_squared_error: 9897.9775\n",
            "Epoch 53/100\n",
            "15/15 [==============================] - 0s 4ms/step - loss: 2755.5845 - mean_squared_error: 2755.5845 - val_loss: 9853.9785 - val_mean_squared_error: 9853.9785\n",
            "Epoch 54/100\n",
            "15/15 [==============================] - 0s 4ms/step - loss: 2694.0203 - mean_squared_error: 2694.0203 - val_loss: 10079.1406 - val_mean_squared_error: 10079.1406\n",
            "Epoch 55/100\n",
            "15/15 [==============================] - 0s 4ms/step - loss: 2613.0325 - mean_squared_error: 2613.0325 - val_loss: 10108.7773 - val_mean_squared_error: 10108.7773\n",
            "Epoch 56/100\n",
            "15/15 [==============================] - 0s 4ms/step - loss: 2648.6284 - mean_squared_error: 2648.6284 - val_loss: 9670.0850 - val_mean_squared_error: 9670.0850\n",
            "Epoch 57/100\n",
            "15/15 [==============================] - 0s 4ms/step - loss: 2523.7419 - mean_squared_error: 2523.7419 - val_loss: 9928.6846 - val_mean_squared_error: 9928.6846\n",
            "Epoch 58/100\n",
            "15/15 [==============================] - 0s 4ms/step - loss: 2459.9475 - mean_squared_error: 2459.9475 - val_loss: 10044.4082 - val_mean_squared_error: 10044.4082\n",
            "Epoch 59/100\n",
            "15/15 [==============================] - 0s 4ms/step - loss: 2399.9607 - mean_squared_error: 2399.9607 - val_loss: 10200.6387 - val_mean_squared_error: 10200.6387\n",
            "Epoch 60/100\n",
            "15/15 [==============================] - 0s 5ms/step - loss: 2379.0242 - mean_squared_error: 2379.0242 - val_loss: 10160.5469 - val_mean_squared_error: 10160.5469\n",
            "Epoch 61/100\n",
            "15/15 [==============================] - 0s 4ms/step - loss: 2328.3630 - mean_squared_error: 2328.3630 - val_loss: 9845.5645 - val_mean_squared_error: 9845.5645\n",
            "Epoch 62/100\n",
            "15/15 [==============================] - 0s 4ms/step - loss: 2475.5151 - mean_squared_error: 2475.5151 - val_loss: 9929.9219 - val_mean_squared_error: 9929.9219\n",
            "Epoch 63/100\n",
            "15/15 [==============================] - 0s 4ms/step - loss: 2301.3315 - mean_squared_error: 2301.3315 - val_loss: 9850.0791 - val_mean_squared_error: 9850.0791\n",
            "Epoch 64/100\n",
            "15/15 [==============================] - 0s 4ms/step - loss: 2202.5142 - mean_squared_error: 2202.5142 - val_loss: 10153.8262 - val_mean_squared_error: 10153.8262\n",
            "Epoch 65/100\n",
            "15/15 [==============================] - 0s 4ms/step - loss: 2149.4817 - mean_squared_error: 2149.4817 - val_loss: 9994.2285 - val_mean_squared_error: 9994.2285\n",
            "Epoch 66/100\n",
            "15/15 [==============================] - 0s 4ms/step - loss: 2156.8213 - mean_squared_error: 2156.8213 - val_loss: 9925.7812 - val_mean_squared_error: 9925.7812\n",
            "Epoch 67/100\n",
            "15/15 [==============================] - 0s 4ms/step - loss: 2108.7820 - mean_squared_error: 2108.7820 - val_loss: 10139.0752 - val_mean_squared_error: 10139.0752\n",
            "Epoch 68/100\n",
            "15/15 [==============================] - 0s 4ms/step - loss: 2048.1987 - mean_squared_error: 2048.1987 - val_loss: 10008.7432 - val_mean_squared_error: 10008.7432\n",
            "Epoch 69/100\n",
            "15/15 [==============================] - 0s 4ms/step - loss: 2059.7488 - mean_squared_error: 2059.7488 - val_loss: 10180.5879 - val_mean_squared_error: 10180.5879\n",
            "Epoch 70/100\n",
            "15/15 [==============================] - 0s 4ms/step - loss: 2009.5000 - mean_squared_error: 2009.5000 - val_loss: 9944.1504 - val_mean_squared_error: 9944.1504\n",
            "Epoch 71/100\n",
            "15/15 [==============================] - 0s 3ms/step - loss: 2001.9302 - mean_squared_error: 2001.9302 - val_loss: 10111.7490 - val_mean_squared_error: 10111.7490\n",
            "Epoch 72/100\n",
            "15/15 [==============================] - 0s 3ms/step - loss: 1955.2434 - mean_squared_error: 1955.2434 - val_loss: 9933.3838 - val_mean_squared_error: 9933.3838\n",
            "Epoch 73/100\n",
            "15/15 [==============================] - 0s 4ms/step - loss: 1990.3503 - mean_squared_error: 1990.3503 - val_loss: 10117.9932 - val_mean_squared_error: 10117.9932\n",
            "Epoch 74/100\n",
            "15/15 [==============================] - 0s 3ms/step - loss: 1856.1194 - mean_squared_error: 1856.1194 - val_loss: 10120.2109 - val_mean_squared_error: 10120.2109\n",
            "Epoch 75/100\n",
            "15/15 [==============================] - 0s 3ms/step - loss: 1962.9683 - mean_squared_error: 1962.9683 - val_loss: 10142.9395 - val_mean_squared_error: 10142.9395\n",
            "Epoch 76/100\n",
            "15/15 [==============================] - 0s 3ms/step - loss: 1855.9399 - mean_squared_error: 1855.9399 - val_loss: 10099.3105 - val_mean_squared_error: 10099.3105\n",
            "Epoch 77/100\n",
            "15/15 [==============================] - 0s 4ms/step - loss: 1954.1316 - mean_squared_error: 1954.1316 - val_loss: 10102.6953 - val_mean_squared_error: 10102.6953\n",
            "Epoch 78/100\n",
            "15/15 [==============================] - 0s 3ms/step - loss: 1819.4097 - mean_squared_error: 1819.4097 - val_loss: 10236.2666 - val_mean_squared_error: 10236.2666\n",
            "Epoch 79/100\n",
            "15/15 [==============================] - 0s 3ms/step - loss: 1801.5671 - mean_squared_error: 1801.5671 - val_loss: 10216.0352 - val_mean_squared_error: 10216.0352\n",
            "Epoch 80/100\n",
            "15/15 [==============================] - 0s 3ms/step - loss: 1828.2227 - mean_squared_error: 1828.2227 - val_loss: 9935.5117 - val_mean_squared_error: 9935.5117\n",
            "Epoch 81/100\n",
            "15/15 [==============================] - 0s 3ms/step - loss: 1759.2616 - mean_squared_error: 1759.2616 - val_loss: 10126.1777 - val_mean_squared_error: 10126.1777\n",
            "Epoch 82/100\n",
            "15/15 [==============================] - 0s 3ms/step - loss: 1724.0916 - mean_squared_error: 1724.0916 - val_loss: 10123.4121 - val_mean_squared_error: 10123.4121\n",
            "Epoch 83/100\n",
            "15/15 [==============================] - 0s 3ms/step - loss: 1783.0133 - mean_squared_error: 1783.0133 - val_loss: 10018.8408 - val_mean_squared_error: 10018.8408\n",
            "Epoch 84/100\n",
            "15/15 [==============================] - 0s 3ms/step - loss: 1779.3207 - mean_squared_error: 1779.3207 - val_loss: 10025.1816 - val_mean_squared_error: 10025.1816\n",
            "Epoch 85/100\n",
            "15/15 [==============================] - 0s 3ms/step - loss: 1685.5038 - mean_squared_error: 1685.5038 - val_loss: 10135.9521 - val_mean_squared_error: 10135.9521\n",
            "Epoch 86/100\n",
            "15/15 [==============================] - 0s 3ms/step - loss: 1729.9333 - mean_squared_error: 1729.9333 - val_loss: 10227.4336 - val_mean_squared_error: 10227.4336\n",
            "Epoch 87/100\n",
            "15/15 [==============================] - 0s 3ms/step - loss: 1669.0730 - mean_squared_error: 1669.0730 - val_loss: 9999.0488 - val_mean_squared_error: 9999.0488\n",
            "Epoch 88/100\n",
            "15/15 [==============================] - 0s 4ms/step - loss: 1745.0779 - mean_squared_error: 1745.0779 - val_loss: 10070.5850 - val_mean_squared_error: 10070.5850\n",
            "Epoch 89/100\n",
            "15/15 [==============================] - 0s 4ms/step - loss: 1620.4818 - mean_squared_error: 1620.4818 - val_loss: 10217.1309 - val_mean_squared_error: 10217.1309\n",
            "Epoch 90/100\n",
            "15/15 [==============================] - 0s 4ms/step - loss: 1657.8881 - mean_squared_error: 1657.8881 - val_loss: 10271.7549 - val_mean_squared_error: 10271.7549\n",
            "Epoch 91/100\n",
            "15/15 [==============================] - 0s 4ms/step - loss: 1654.5209 - mean_squared_error: 1654.5209 - val_loss: 9910.7549 - val_mean_squared_error: 9910.7549\n",
            "Epoch 92/100\n",
            "15/15 [==============================] - 0s 3ms/step - loss: 1599.2312 - mean_squared_error: 1599.2312 - val_loss: 10011.7207 - val_mean_squared_error: 10011.7207\n",
            "Epoch 93/100\n",
            "15/15 [==============================] - 0s 4ms/step - loss: 1605.0504 - mean_squared_error: 1605.0504 - val_loss: 10078.2773 - val_mean_squared_error: 10078.2773\n",
            "Epoch 94/100\n",
            "15/15 [==============================] - 0s 4ms/step - loss: 1589.2478 - mean_squared_error: 1589.2478 - val_loss: 10235.1992 - val_mean_squared_error: 10235.1992\n",
            "Epoch 95/100\n",
            "15/15 [==============================] - 0s 4ms/step - loss: 1654.5216 - mean_squared_error: 1654.5216 - val_loss: 10376.1758 - val_mean_squared_error: 10376.1758\n",
            "Epoch 96/100\n",
            "15/15 [==============================] - 0s 4ms/step - loss: 1606.8685 - mean_squared_error: 1606.8685 - val_loss: 10078.2891 - val_mean_squared_error: 10078.2891\n",
            "Epoch 97/100\n",
            "15/15 [==============================] - 0s 4ms/step - loss: 1566.5665 - mean_squared_error: 1566.5665 - val_loss: 10104.5977 - val_mean_squared_error: 10104.5977\n",
            "Epoch 98/100\n",
            "15/15 [==============================] - 0s 3ms/step - loss: 1589.4054 - mean_squared_error: 1589.4054 - val_loss: 10193.0000 - val_mean_squared_error: 10193.0000\n",
            "Epoch 99/100\n",
            "15/15 [==============================] - 0s 4ms/step - loss: 1623.6936 - mean_squared_error: 1623.6936 - val_loss: 10089.0830 - val_mean_squared_error: 10089.0830\n",
            "Epoch 100/100\n",
            "15/15 [==============================] - 0s 4ms/step - loss: 1519.5686 - mean_squared_error: 1519.5686 - val_loss: 10169.0615 - val_mean_squared_error: 10169.0615\n"
          ],
          "name": "stdout"
        }
      ]
    },
    {
      "cell_type": "code",
      "metadata": {
        "id": "9PE5V3NbgZj9",
        "colab_type": "code",
        "colab": {
          "base_uri": "https://localhost:8080/",
          "height": 52
        },
        "outputId": "27864c3c-d9c4-48b8-95c6-7297c5cabc90"
      },
      "source": [
        "from sklearn.metrics import mean_squared_error\n",
        "from math import sqrt\n",
        "\n",
        "pred_train = model.predict(X_train)\n",
        "print(np.sqrt(mean_squared_error(y_train,pred_train)))\n",
        "\n",
        "pred = model.predict(X_test)\n",
        "print(np.sqrt(mean_squared_error(y_test,pred)))"
      ],
      "execution_count": null,
      "outputs": [
        {
          "output_type": "stream",
          "text": [
            "57.45680352552849\n",
            "87.52509874041966\n"
          ],
          "name": "stdout"
        }
      ]
    },
    {
      "cell_type": "markdown",
      "metadata": {
        "id": "rbpN4wbtgb-y",
        "colab_type": "text"
      },
      "source": [
        "## Neural Network for Classification\n",
        "\n",
        "Car Evaluation Database was derived from a simple hierarchical decision model originally developed for the demonstration of DEX, M. Bohanec, V. Rajkovic: Expert system for decision making. Sistemica 1(1), pp. 145-157, 1990.). The model evaluates cars according to the following concept structure:\n",
        "\n",
        "CAR car acceptability\n",
        ". PRICE overall price\n",
        "\n",
        ". . buying buying price\n",
        "\n",
        ". . maint price of the maintenance\n",
        "\n",
        ". TECH technical characteristics\n",
        "\n",
        ". . COMFORT comfort\n",
        "\n",
        ". . . doors number of doors\n",
        "\n",
        ". . . persons capacity in terms of persons to carry\n",
        "\n",
        ". . . lug_boot the size of luggage boot\n",
        "\n",
        ". . safety estimated safety of the car"
      ]
    },
    {
      "cell_type": "code",
      "metadata": {
        "id": "pYZ2iYJjglQ1",
        "colab_type": "code",
        "colab": {
          "resources": {
            "http://localhost:8080/nbextensions/google.colab/files.js": {
              "data": "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",
              "ok": true,
              "headers": [
                [
                  "content-type",
                  "application/javascript"
                ]
              ],
              "status": 200,
              "status_text": ""
            }
          },
          "base_uri": "https://localhost:8080/",
          "height": 91
        },
        "outputId": "13dd5af6-911e-4581-ea4c-1f7535dd6851"
      },
      "source": [
        "from google.colab import files\n",
        "\n",
        "uploaded = files.upload()\n",
        "\n",
        "for fn in uploaded.keys():\n",
        "  print('User uploaded file \"{name}\" with length {length} bytes'.format(\n",
        "      name=fn, length=len(uploaded[fn])))"
      ],
      "execution_count": null,
      "outputs": [
        {
          "output_type": "display_data",
          "data": {
            "text/html": [
              "\n",
              "     <input type=\"file\" id=\"files-f58f532c-85d4-4660-bd65-3a434f34125c\" name=\"files[]\" multiple disabled\n",
              "        style=\"border:none\" />\n",
              "     <output id=\"result-f58f532c-85d4-4660-bd65-3a434f34125c\">\n",
              "      Upload widget is only available when the cell has been executed in the\n",
              "      current browser session. Please rerun this cell to enable.\n",
              "      </output>\n",
              "      <script src=\"/nbextensions/google.colab/files.js\"></script> "
            ],
            "text/plain": [
              "<IPython.core.display.HTML object>"
            ]
          },
          "metadata": {
            "tags": []
          }
        },
        {
          "output_type": "stream",
          "text": [
            "Saving car_evaluation.csv to car_evaluation.csv\n",
            "User uploaded file \"car_evaluation.csv\" with length 53593 bytes\n"
          ],
          "name": "stdout"
        }
      ]
    },
    {
      "cell_type": "code",
      "metadata": {
        "id": "CL0pQduQgs9d",
        "colab_type": "code",
        "colab": {}
      },
      "source": [
        "cols = ['price', 'maint', 'doors', 'persons', 'lug_capacity', 'safety','output']\n",
        "cars = pd.read_csv(r'car_evaluation.csv', names=cols, header=None)"
      ],
      "execution_count": null,
      "outputs": []
    },
    {
      "cell_type": "code",
      "metadata": {
        "id": "OjcFasbfgvw8",
        "colab_type": "code",
        "colab": {
          "base_uri": "https://localhost:8080/",
          "height": 815
        },
        "outputId": "25e7efc9-3dd8-4d4c-c2ba-66092e337632"
      },
      "source": [
        "cars.head(25)"
      ],
      "execution_count": null,
      "outputs": [
        {
          "output_type": "execute_result",
          "data": {
            "text/html": [
              "<div>\n",
              "<style scoped>\n",
              "    .dataframe tbody tr th:only-of-type {\n",
              "        vertical-align: middle;\n",
              "    }\n",
              "\n",
              "    .dataframe tbody tr th {\n",
              "        vertical-align: top;\n",
              "    }\n",
              "\n",
              "    .dataframe thead th {\n",
              "        text-align: right;\n",
              "    }\n",
              "</style>\n",
              "<table border=\"1\" class=\"dataframe\">\n",
              "  <thead>\n",
              "    <tr style=\"text-align: right;\">\n",
              "      <th></th>\n",
              "      <th>price</th>\n",
              "      <th>maint</th>\n",
              "      <th>doors</th>\n",
              "      <th>persons</th>\n",
              "      <th>lug_capacity</th>\n",
              "      <th>safety</th>\n",
              "      <th>output</th>\n",
              "    </tr>\n",
              "  </thead>\n",
              "  <tbody>\n",
              "    <tr>\n",
              "      <th>0</th>\n",
              "      <td>vhigh</td>\n",
              "      <td>vhigh</td>\n",
              "      <td>2</td>\n",
              "      <td>2</td>\n",
              "      <td>small</td>\n",
              "      <td>low</td>\n",
              "      <td>unacc</td>\n",
              "    </tr>\n",
              "    <tr>\n",
              "      <th>1</th>\n",
              "      <td>vhigh</td>\n",
              "      <td>vhigh</td>\n",
              "      <td>2</td>\n",
              "      <td>2</td>\n",
              "      <td>small</td>\n",
              "      <td>med</td>\n",
              "      <td>unacc</td>\n",
              "    </tr>\n",
              "    <tr>\n",
              "      <th>2</th>\n",
              "      <td>vhigh</td>\n",
              "      <td>vhigh</td>\n",
              "      <td>2</td>\n",
              "      <td>2</td>\n",
              "      <td>small</td>\n",
              "      <td>high</td>\n",
              "      <td>unacc</td>\n",
              "    </tr>\n",
              "    <tr>\n",
              "      <th>3</th>\n",
              "      <td>vhigh</td>\n",
              "      <td>vhigh</td>\n",
              "      <td>2</td>\n",
              "      <td>2</td>\n",
              "      <td>med</td>\n",
              "      <td>low</td>\n",
              "      <td>unacc</td>\n",
              "    </tr>\n",
              "    <tr>\n",
              "      <th>4</th>\n",
              "      <td>vhigh</td>\n",
              "      <td>vhigh</td>\n",
              "      <td>2</td>\n",
              "      <td>2</td>\n",
              "      <td>med</td>\n",
              "      <td>med</td>\n",
              "      <td>unacc</td>\n",
              "    </tr>\n",
              "    <tr>\n",
              "      <th>5</th>\n",
              "      <td>vhigh</td>\n",
              "      <td>vhigh</td>\n",
              "      <td>2</td>\n",
              "      <td>2</td>\n",
              "      <td>med</td>\n",
              "      <td>high</td>\n",
              "      <td>unacc</td>\n",
              "    </tr>\n",
              "    <tr>\n",
              "      <th>6</th>\n",
              "      <td>vhigh</td>\n",
              "      <td>vhigh</td>\n",
              "      <td>2</td>\n",
              "      <td>2</td>\n",
              "      <td>big</td>\n",
              "      <td>low</td>\n",
              "      <td>unacc</td>\n",
              "    </tr>\n",
              "    <tr>\n",
              "      <th>7</th>\n",
              "      <td>vhigh</td>\n",
              "      <td>vhigh</td>\n",
              "      <td>2</td>\n",
              "      <td>2</td>\n",
              "      <td>big</td>\n",
              "      <td>med</td>\n",
              "      <td>unacc</td>\n",
              "    </tr>\n",
              "    <tr>\n",
              "      <th>8</th>\n",
              "      <td>vhigh</td>\n",
              "      <td>vhigh</td>\n",
              "      <td>2</td>\n",
              "      <td>2</td>\n",
              "      <td>big</td>\n",
              "      <td>high</td>\n",
              "      <td>unacc</td>\n",
              "    </tr>\n",
              "    <tr>\n",
              "      <th>9</th>\n",
              "      <td>vhigh</td>\n",
              "      <td>vhigh</td>\n",
              "      <td>2</td>\n",
              "      <td>4</td>\n",
              "      <td>small</td>\n",
              "      <td>low</td>\n",
              "      <td>unacc</td>\n",
              "    </tr>\n",
              "    <tr>\n",
              "      <th>10</th>\n",
              "      <td>vhigh</td>\n",
              "      <td>vhigh</td>\n",
              "      <td>2</td>\n",
              "      <td>4</td>\n",
              "      <td>small</td>\n",
              "      <td>med</td>\n",
              "      <td>unacc</td>\n",
              "    </tr>\n",
              "    <tr>\n",
              "      <th>11</th>\n",
              "      <td>vhigh</td>\n",
              "      <td>vhigh</td>\n",
              "      <td>2</td>\n",
              "      <td>4</td>\n",
              "      <td>small</td>\n",
              "      <td>high</td>\n",
              "      <td>unacc</td>\n",
              "    </tr>\n",
              "    <tr>\n",
              "      <th>12</th>\n",
              "      <td>vhigh</td>\n",
              "      <td>vhigh</td>\n",
              "      <td>2</td>\n",
              "      <td>4</td>\n",
              "      <td>med</td>\n",
              "      <td>low</td>\n",
              "      <td>unacc</td>\n",
              "    </tr>\n",
              "    <tr>\n",
              "      <th>13</th>\n",
              "      <td>vhigh</td>\n",
              "      <td>vhigh</td>\n",
              "      <td>2</td>\n",
              "      <td>4</td>\n",
              "      <td>med</td>\n",
              "      <td>med</td>\n",
              "      <td>unacc</td>\n",
              "    </tr>\n",
              "    <tr>\n",
              "      <th>14</th>\n",
              "      <td>vhigh</td>\n",
              "      <td>vhigh</td>\n",
              "      <td>2</td>\n",
              "      <td>4</td>\n",
              "      <td>med</td>\n",
              "      <td>high</td>\n",
              "      <td>unacc</td>\n",
              "    </tr>\n",
              "    <tr>\n",
              "      <th>15</th>\n",
              "      <td>vhigh</td>\n",
              "      <td>vhigh</td>\n",
              "      <td>2</td>\n",
              "      <td>4</td>\n",
              "      <td>big</td>\n",
              "      <td>low</td>\n",
              "      <td>unacc</td>\n",
              "    </tr>\n",
              "    <tr>\n",
              "      <th>16</th>\n",
              "      <td>vhigh</td>\n",
              "      <td>vhigh</td>\n",
              "      <td>2</td>\n",
              "      <td>4</td>\n",
              "      <td>big</td>\n",
              "      <td>med</td>\n",
              "      <td>unacc</td>\n",
              "    </tr>\n",
              "    <tr>\n",
              "      <th>17</th>\n",
              "      <td>vhigh</td>\n",
              "      <td>vhigh</td>\n",
              "      <td>2</td>\n",
              "      <td>4</td>\n",
              "      <td>big</td>\n",
              "      <td>high</td>\n",
              "      <td>unacc</td>\n",
              "    </tr>\n",
              "    <tr>\n",
              "      <th>18</th>\n",
              "      <td>vhigh</td>\n",
              "      <td>vhigh</td>\n",
              "      <td>2</td>\n",
              "      <td>more</td>\n",
              "      <td>small</td>\n",
              "      <td>low</td>\n",
              "      <td>unacc</td>\n",
              "    </tr>\n",
              "    <tr>\n",
              "      <th>19</th>\n",
              "      <td>vhigh</td>\n",
              "      <td>vhigh</td>\n",
              "      <td>2</td>\n",
              "      <td>more</td>\n",
              "      <td>small</td>\n",
              "      <td>med</td>\n",
              "      <td>unacc</td>\n",
              "    </tr>\n",
              "    <tr>\n",
              "      <th>20</th>\n",
              "      <td>vhigh</td>\n",
              "      <td>vhigh</td>\n",
              "      <td>2</td>\n",
              "      <td>more</td>\n",
              "      <td>small</td>\n",
              "      <td>high</td>\n",
              "      <td>unacc</td>\n",
              "    </tr>\n",
              "    <tr>\n",
              "      <th>21</th>\n",
              "      <td>vhigh</td>\n",
              "      <td>vhigh</td>\n",
              "      <td>2</td>\n",
              "      <td>more</td>\n",
              "      <td>med</td>\n",
              "      <td>low</td>\n",
              "      <td>unacc</td>\n",
              "    </tr>\n",
              "    <tr>\n",
              "      <th>22</th>\n",
              "      <td>vhigh</td>\n",
              "      <td>vhigh</td>\n",
              "      <td>2</td>\n",
              "      <td>more</td>\n",
              "      <td>med</td>\n",
              "      <td>med</td>\n",
              "      <td>unacc</td>\n",
              "    </tr>\n",
              "    <tr>\n",
              "      <th>23</th>\n",
              "      <td>vhigh</td>\n",
              "      <td>vhigh</td>\n",
              "      <td>2</td>\n",
              "      <td>more</td>\n",
              "      <td>med</td>\n",
              "      <td>high</td>\n",
              "      <td>unacc</td>\n",
              "    </tr>\n",
              "    <tr>\n",
              "      <th>24</th>\n",
              "      <td>vhigh</td>\n",
              "      <td>vhigh</td>\n",
              "      <td>2</td>\n",
              "      <td>more</td>\n",
              "      <td>big</td>\n",
              "      <td>low</td>\n",
              "      <td>unacc</td>\n",
              "    </tr>\n",
              "  </tbody>\n",
              "</table>\n",
              "</div>"
            ],
            "text/plain": [
              "    price  maint doors persons lug_capacity safety output\n",
              "0   vhigh  vhigh     2       2        small    low  unacc\n",
              "1   vhigh  vhigh     2       2        small    med  unacc\n",
              "2   vhigh  vhigh     2       2        small   high  unacc\n",
              "3   vhigh  vhigh     2       2          med    low  unacc\n",
              "4   vhigh  vhigh     2       2          med    med  unacc\n",
              "5   vhigh  vhigh     2       2          med   high  unacc\n",
              "6   vhigh  vhigh     2       2          big    low  unacc\n",
              "7   vhigh  vhigh     2       2          big    med  unacc\n",
              "8   vhigh  vhigh     2       2          big   high  unacc\n",
              "9   vhigh  vhigh     2       4        small    low  unacc\n",
              "10  vhigh  vhigh     2       4        small    med  unacc\n",
              "11  vhigh  vhigh     2       4        small   high  unacc\n",
              "12  vhigh  vhigh     2       4          med    low  unacc\n",
              "13  vhigh  vhigh     2       4          med    med  unacc\n",
              "14  vhigh  vhigh     2       4          med   high  unacc\n",
              "15  vhigh  vhigh     2       4          big    low  unacc\n",
              "16  vhigh  vhigh     2       4          big    med  unacc\n",
              "17  vhigh  vhigh     2       4          big   high  unacc\n",
              "18  vhigh  vhigh     2    more        small    low  unacc\n",
              "19  vhigh  vhigh     2    more        small    med  unacc\n",
              "20  vhigh  vhigh     2    more        small   high  unacc\n",
              "21  vhigh  vhigh     2    more          med    low  unacc\n",
              "22  vhigh  vhigh     2    more          med    med  unacc\n",
              "23  vhigh  vhigh     2    more          med   high  unacc\n",
              "24  vhigh  vhigh     2    more          big    low  unacc"
            ]
          },
          "metadata": {
            "tags": []
          },
          "execution_count": 21
        }
      ]
    },
    {
      "cell_type": "code",
      "metadata": {
        "id": "s3CE_llvgwkK",
        "colab_type": "code",
        "colab": {
          "base_uri": "https://localhost:8080/",
          "height": 375
        },
        "outputId": "34c3fc4a-c1b6-417c-f20b-b0181ef2a3d3"
      },
      "source": [
        "plot_size = plt.rcParams[\"figure.figsize\"]\n",
        "plot_size [0] = 8\n",
        "plot_size [1] = 6\n",
        "plt.rcParams[\"figure.figsize\"] = plot_size\n",
        "\n",
        "\n",
        "cars.output.value_counts().plot(kind='pie', autopct='%0.05f%%', colors=['lightblue', 'lightgreen', 'orange', 'pink'], explode=(0.05, 0.05, 0.05,0.05))"
      ],
      "execution_count": null,
      "outputs": [
        {
          "output_type": "execute_result",
          "data": {
            "text/plain": [
              "<matplotlib.axes._subplots.AxesSubplot at 0x7fe6526a5518>"
            ]
          },
          "metadata": {
            "tags": []
          },
          "execution_count": 22
        },
        {
          "output_type": "display_data",
          "data": {
            "image/png": "[encoded data removed]",
            "text/plain": [
              "<Figure size 576x432 with 1 Axes>"
            ]
          },
          "metadata": {
            "tags": []
          }
        }
      ]
    },
    {
      "cell_type": "markdown",
      "metadata": {
        "id": "VV7Nwt3pg126",
        "colab_type": "text"
      },
      "source": [
        "All the columns in our dataset are categorical. Deep learning is based on statistical algorithms and statistical algorithms work with numbers. Therefore, we need to convert the categorical information into numeric columns. There are various approaches to do that but one of the most common approach is one-hot encoding."
      ]
    },
    {
      "cell_type": "code",
      "metadata": {
        "id": "ny_JaVacg4hO",
        "colab_type": "code",
        "colab": {}
      },
      "source": [
        "price = pd.get_dummies(cars.price, prefix='price')\n",
        "maint = pd.get_dummies(cars.maint, prefix='maint')\n",
        "\n",
        "doors = pd.get_dummies(cars.doors, prefix='doors')\n",
        "persons = pd.get_dummies(cars.persons, prefix='persons')\n",
        "\n",
        "lug_capacity = pd.get_dummies(cars.lug_capacity, prefix='lug_capacity')\n",
        "safety = pd.get_dummies(cars.safety, prefix='safety')\n",
        "\n",
        "labels = pd.get_dummies(cars.output, prefix='condition')"
      ],
      "execution_count": null,
      "outputs": []
    },
    {
      "cell_type": "code",
      "metadata": {
        "id": "MZXhw1Z0g9gF",
        "colab_type": "code",
        "colab": {
          "base_uri": "https://localhost:8080/",
          "height": 202
        },
        "outputId": "4a182602-2518-48ce-f15b-2e3357147387"
      },
      "source": [
        "X = pd.concat([price, maint, doors, persons, lug_capacity, safety] , axis=1)\n",
        "\n",
        "labels.tail()"
      ],
      "execution_count": null,
      "outputs": [
        {
          "output_type": "execute_result",
          "data": {
            "text/html": [
              "<div>\n",
              "<style scoped>\n",
              "    .dataframe tbody tr th:only-of-type {\n",
              "        vertical-align: middle;\n",
              "    }\n",
              "\n",
              "    .dataframe tbody tr th {\n",
              "        vertical-align: top;\n",
              "    }\n",
              "\n",
              "    .dataframe thead th {\n",
              "        text-align: right;\n",
              "    }\n",
              "</style>\n",
              "<table border=\"1\" class=\"dataframe\">\n",
              "  <thead>\n",
              "    <tr style=\"text-align: right;\">\n",
              "      <th></th>\n",
              "      <th>condition_acc</th>\n",
              "      <th>condition_good</th>\n",
              "      <th>condition_unacc</th>\n",
              "      <th>condition_vgood</th>\n",
              "    </tr>\n",
              "  </thead>\n",
              "  <tbody>\n",
              "    <tr>\n",
              "      <th>1723</th>\n",
              "      <td>0</td>\n",
              "      <td>1</td>\n",
              "      <td>0</td>\n",
              "      <td>0</td>\n",
              "    </tr>\n",
              "    <tr>\n",
              "      <th>1724</th>\n",
              "      <td>0</td>\n",
              "      <td>0</td>\n",
              "      <td>0</td>\n",
              "      <td>1</td>\n",
              "    </tr>\n",
              "    <tr>\n",
              "      <th>1725</th>\n",
              "      <td>0</td>\n",
              "      <td>0</td>\n",
              "      <td>1</td>\n",
              "      <td>0</td>\n",
              "    </tr>\n",
              "    <tr>\n",
              "      <th>1726</th>\n",
              "      <td>0</td>\n",
              "      <td>1</td>\n",
              "      <td>0</td>\n",
              "      <td>0</td>\n",
              "    </tr>\n",
              "    <tr>\n",
              "      <th>1727</th>\n",
              "      <td>0</td>\n",
              "      <td>0</td>\n",
              "      <td>0</td>\n",
              "      <td>1</td>\n",
              "    </tr>\n",
              "  </tbody>\n",
              "</table>\n",
              "</div>"
            ],
            "text/plain": [
              "      condition_acc  condition_good  condition_unacc  condition_vgood\n",
              "1723              0               1                0                0\n",
              "1724              0               0                0                1\n",
              "1725              0               0                1                0\n",
              "1726              0               1                0                0\n",
              "1727              0               0                0                1"
            ]
          },
          "metadata": {
            "tags": []
          },
          "execution_count": 24
        }
      ]
    },
    {
      "cell_type": "code",
      "metadata": {
        "id": "tjzv0cLNg_5w",
        "colab_type": "code",
        "colab": {}
      },
      "source": [
        "y = labels.values\n",
        "\n",
        "X_train, X_test, y_train, y_test = train_test_split(X, y, test_size=0.20, random_state=42)"
      ],
      "execution_count": null,
      "outputs": []
    },
    {
      "cell_type": "code",
      "metadata": {
        "id": "JP8MuryghFRo",
        "colab_type": "code",
        "colab": {}
      },
      "source": [
        "input_layer = Input(shape=(X.shape[1],))\n",
        "dense_layer_1 = Dense(15, activation='tanh')(input_layer)\n",
        "dense_layer_2 = Dense(10, activation='relu')(dense_layer_1)\n",
        "output = Dense(y.shape[1], activation='softmax')(dense_layer_2)\n",
        "\n",
        "model = Model(inputs=input_layer, outputs=output)\n",
        "model.compile(loss='categorical_crossentropy', optimizer='adam', metrics=['acc'])"
      ],
      "execution_count": null,
      "outputs": []
    },
    {
      "cell_type": "code",
      "metadata": {
        "id": "-IUNHZkShIcD",
        "colab_type": "code",
        "colab": {
          "base_uri": "https://localhost:8080/",
          "height": 312
        },
        "outputId": "15a3db34-57c5-4cdc-fdac-b9bbcfe3d7e4"
      },
      "source": [
        "print(model.summary())"
      ],
      "execution_count": null,
      "outputs": [
        {
          "output_type": "stream",
          "text": [
            "Model: \"model_1\"\n",
            "_________________________________________________________________\n",
            "Layer (type)                 Output Shape              Param #   \n",
            "=================================================================\n",
            "input_2 (InputLayer)         [(None, 21)]              0         \n",
            "_________________________________________________________________\n",
            "dense_19 (Dense)             (None, 15)                330       \n",
            "_________________________________________________________________\n",
            "dense_20 (Dense)             (None, 10)                160       \n",
            "_________________________________________________________________\n",
            "dense_21 (Dense)             (None, 4)                 44        \n",
            "=================================================================\n",
            "Total params: 534\n",
            "Trainable params: 534\n",
            "Non-trainable params: 0\n",
            "_________________________________________________________________\n",
            "None\n"
          ],
          "name": "stdout"
        }
      ]
    },
    {
      "cell_type": "code",
      "metadata": {
        "id": "IMfndajLhO_-",
        "colab_type": "code",
        "colab": {
          "base_uri": "https://localhost:8080/",
          "height": 1000
        },
        "outputId": "8b2c5839-b8a9-4602-c7b0-d905c6c25cae"
      },
      "source": [
        "history = model.fit(X_train, y_train, batch_size=32, epochs=50, verbose=1, validation_split=0.2)"
      ],
      "execution_count": null,
      "outputs": [
        {
          "output_type": "stream",
          "text": [
            "Epoch 1/50\n",
            "35/35 [==============================] - 0s 9ms/step - loss: 1.1516 - acc: 0.6498 - val_loss: 1.0830 - val_acc: 0.6570\n",
            "Epoch 2/50\n",
            "35/35 [==============================] - 0s 4ms/step - loss: 0.9704 - acc: 0.7167 - val_loss: 0.9607 - val_acc: 0.6534\n",
            "Epoch 3/50\n",
            "35/35 [==============================] - 0s 4ms/step - loss: 0.8379 - acc: 0.7195 - val_loss: 0.8566 - val_acc: 0.6534\n",
            "Epoch 4/50\n",
            "35/35 [==============================] - 0s 4ms/step - loss: 0.7272 - acc: 0.7195 - val_loss: 0.7695 - val_acc: 0.6606\n",
            "Epoch 5/50\n",
            "35/35 [==============================] - 0s 4ms/step - loss: 0.6377 - acc: 0.7249 - val_loss: 0.6914 - val_acc: 0.6715\n",
            "Epoch 6/50\n",
            "35/35 [==============================] - 0s 4ms/step - loss: 0.5615 - acc: 0.7394 - val_loss: 0.6262 - val_acc: 0.6931\n",
            "Epoch 7/50\n",
            "35/35 [==============================] - 0s 3ms/step - loss: 0.4990 - acc: 0.7674 - val_loss: 0.5749 - val_acc: 0.7220\n",
            "Epoch 8/50\n",
            "35/35 [==============================] - 0s 3ms/step - loss: 0.4483 - acc: 0.8018 - val_loss: 0.5261 - val_acc: 0.7798\n",
            "Epoch 9/50\n",
            "35/35 [==============================] - 0s 3ms/step - loss: 0.4069 - acc: 0.8371 - val_loss: 0.4875 - val_acc: 0.8051\n",
            "Epoch 10/50\n",
            "35/35 [==============================] - 0s 4ms/step - loss: 0.3703 - acc: 0.8552 - val_loss: 0.4503 - val_acc: 0.8195\n",
            "Epoch 11/50\n",
            "35/35 [==============================] - 0s 4ms/step - loss: 0.3401 - acc: 0.8670 - val_loss: 0.4282 - val_acc: 0.8195\n",
            "Epoch 12/50\n",
            "35/35 [==============================] - 0s 3ms/step - loss: 0.3139 - acc: 0.8724 - val_loss: 0.3973 - val_acc: 0.8339\n",
            "Epoch 13/50\n",
            "35/35 [==============================] - 0s 3ms/step - loss: 0.2908 - acc: 0.8833 - val_loss: 0.3736 - val_acc: 0.8303\n",
            "Epoch 14/50\n",
            "35/35 [==============================] - 0s 3ms/step - loss: 0.2711 - acc: 0.8986 - val_loss: 0.3532 - val_acc: 0.8412\n",
            "Epoch 15/50\n",
            "35/35 [==============================] - 0s 3ms/step - loss: 0.2538 - acc: 0.9086 - val_loss: 0.3367 - val_acc: 0.8592\n",
            "Epoch 16/50\n",
            "35/35 [==============================] - 0s 3ms/step - loss: 0.2378 - acc: 0.9158 - val_loss: 0.3201 - val_acc: 0.8628\n",
            "Epoch 17/50\n",
            "35/35 [==============================] - 0s 3ms/step - loss: 0.2239 - acc: 0.9213 - val_loss: 0.3082 - val_acc: 0.8736\n",
            "Epoch 18/50\n",
            "35/35 [==============================] - 0s 4ms/step - loss: 0.2130 - acc: 0.9249 - val_loss: 0.2932 - val_acc: 0.8845\n",
            "Epoch 19/50\n",
            "35/35 [==============================] - 0s 3ms/step - loss: 0.2032 - acc: 0.9312 - val_loss: 0.2858 - val_acc: 0.8773\n",
            "Epoch 20/50\n",
            "35/35 [==============================] - 0s 3ms/step - loss: 0.1941 - acc: 0.9321 - val_loss: 0.2717 - val_acc: 0.8773\n",
            "Epoch 21/50\n",
            "35/35 [==============================] - 0s 3ms/step - loss: 0.1870 - acc: 0.9294 - val_loss: 0.2664 - val_acc: 0.8881\n",
            "Epoch 22/50\n",
            "35/35 [==============================] - 0s 3ms/step - loss: 0.1792 - acc: 0.9385 - val_loss: 0.2572 - val_acc: 0.8917\n",
            "Epoch 23/50\n",
            "35/35 [==============================] - 0s 3ms/step - loss: 0.1736 - acc: 0.9439 - val_loss: 0.2519 - val_acc: 0.8953\n",
            "Epoch 24/50\n",
            "35/35 [==============================] - 0s 4ms/step - loss: 0.1678 - acc: 0.9430 - val_loss: 0.2455 - val_acc: 0.9025\n",
            "Epoch 25/50\n",
            "35/35 [==============================] - 0s 3ms/step - loss: 0.1653 - acc: 0.9412 - val_loss: 0.2530 - val_acc: 0.8736\n",
            "Epoch 26/50\n",
            "35/35 [==============================] - 0s 4ms/step - loss: 0.1602 - acc: 0.9421 - val_loss: 0.2373 - val_acc: 0.8953\n",
            "Epoch 27/50\n",
            "35/35 [==============================] - 0s 3ms/step - loss: 0.1530 - acc: 0.9493 - val_loss: 0.2293 - val_acc: 0.8989\n",
            "Epoch 28/50\n",
            "35/35 [==============================] - 0s 3ms/step - loss: 0.1485 - acc: 0.9493 - val_loss: 0.2223 - val_acc: 0.9134\n",
            "Epoch 29/50\n",
            "35/35 [==============================] - 0s 3ms/step - loss: 0.1457 - acc: 0.9557 - val_loss: 0.2207 - val_acc: 0.9170\n",
            "Epoch 30/50\n",
            "35/35 [==============================] - 0s 3ms/step - loss: 0.1422 - acc: 0.9538 - val_loss: 0.2194 - val_acc: 0.9061\n",
            "Epoch 31/50\n",
            "35/35 [==============================] - 0s 3ms/step - loss: 0.1369 - acc: 0.9602 - val_loss: 0.2097 - val_acc: 0.9242\n",
            "Epoch 32/50\n",
            "35/35 [==============================] - 0s 3ms/step - loss: 0.1351 - acc: 0.9611 - val_loss: 0.2106 - val_acc: 0.9170\n",
            "Epoch 33/50\n",
            "35/35 [==============================] - 0s 3ms/step - loss: 0.1308 - acc: 0.9602 - val_loss: 0.2065 - val_acc: 0.9206\n",
            "Epoch 34/50\n",
            "35/35 [==============================] - 0s 3ms/step - loss: 0.1270 - acc: 0.9611 - val_loss: 0.1964 - val_acc: 0.9278\n",
            "Epoch 35/50\n",
            "35/35 [==============================] - 0s 4ms/step - loss: 0.1241 - acc: 0.9665 - val_loss: 0.2060 - val_acc: 0.9206\n",
            "Epoch 36/50\n",
            "35/35 [==============================] - 0s 3ms/step - loss: 0.1224 - acc: 0.9620 - val_loss: 0.1931 - val_acc: 0.9314\n",
            "Epoch 37/50\n",
            "35/35 [==============================] - 0s 3ms/step - loss: 0.1176 - acc: 0.9692 - val_loss: 0.1972 - val_acc: 0.9278\n",
            "Epoch 38/50\n",
            "35/35 [==============================] - 0s 3ms/step - loss: 0.1172 - acc: 0.9620 - val_loss: 0.1863 - val_acc: 0.9278\n",
            "Epoch 39/50\n",
            "35/35 [==============================] - 0s 3ms/step - loss: 0.1133 - acc: 0.9638 - val_loss: 0.1855 - val_acc: 0.9314\n",
            "Epoch 40/50\n",
            "35/35 [==============================] - 0s 4ms/step - loss: 0.1105 - acc: 0.9674 - val_loss: 0.1828 - val_acc: 0.9278\n",
            "Epoch 41/50\n",
            "35/35 [==============================] - 0s 4ms/step - loss: 0.1066 - acc: 0.9701 - val_loss: 0.1855 - val_acc: 0.9314\n",
            "Epoch 42/50\n",
            "35/35 [==============================] - 0s 4ms/step - loss: 0.1047 - acc: 0.9665 - val_loss: 0.1729 - val_acc: 0.9278\n",
            "Epoch 43/50\n",
            "35/35 [==============================] - 0s 4ms/step - loss: 0.1037 - acc: 0.9683 - val_loss: 0.1708 - val_acc: 0.9314\n",
            "Epoch 44/50\n",
            "35/35 [==============================] - 0s 4ms/step - loss: 0.1000 - acc: 0.9729 - val_loss: 0.1720 - val_acc: 0.9278\n",
            "Epoch 45/50\n",
            "35/35 [==============================] - 0s 3ms/step - loss: 0.0978 - acc: 0.9738 - val_loss: 0.1726 - val_acc: 0.9314\n",
            "Epoch 46/50\n",
            "35/35 [==============================] - 0s 3ms/step - loss: 0.0955 - acc: 0.9747 - val_loss: 0.1660 - val_acc: 0.9314\n",
            "Epoch 47/50\n",
            "35/35 [==============================] - 0s 3ms/step - loss: 0.0937 - acc: 0.9756 - val_loss: 0.1649 - val_acc: 0.9278\n",
            "Epoch 48/50\n",
            "35/35 [==============================] - 0s 3ms/step - loss: 0.0905 - acc: 0.9729 - val_loss: 0.1599 - val_acc: 0.9350\n",
            "Epoch 49/50\n",
            "35/35 [==============================] - 0s 4ms/step - loss: 0.0893 - acc: 0.9756 - val_loss: 0.1615 - val_acc: 0.9314\n",
            "Epoch 50/50\n",
            "35/35 [==============================] - 0s 4ms/step - loss: 0.0868 - acc: 0.9765 - val_loss: 0.1577 - val_acc: 0.9386\n"
          ],
          "name": "stdout"
        }
      ]
    },
    {
      "cell_type": "code",
      "metadata": {
        "id": "nbQsm7CLhSF1",
        "colab_type": "code",
        "colab": {
          "base_uri": "https://localhost:8080/",
          "height": 52
        },
        "outputId": "dea3c9d0-4416-43bb-9b43-e1463d3b7484"
      },
      "source": [
        "score = model.evaluate(X_test, y_test, verbose=1)\n",
        "\n",
        "print(\"Test Accuracy:\", score[1])"
      ],
      "execution_count": null,
      "outputs": [
        {
          "output_type": "stream",
          "text": [
            "11/11 [==============================] - 0s 2ms/step - loss: 0.1392 - acc: 0.9451\n",
            "Test Accuracy: 0.9450867176055908\n"
          ],
          "name": "stdout"
        }
      ]
    },
    {
      "cell_type": "code",
      "metadata": {
        "id": "3Mrx0sguyASu",
        "colab_type": "code",
        "colab": {
          "base_uri": "https://localhost:8080/",
          "height": 107
        },
        "outputId": "c0a12976-9a61-432d-909d-5fe25d901a63"
      },
      "source": [
        "model.save('classification_model')"
      ],
      "execution_count": null,
      "outputs": [
        {
          "output_type": "stream",
          "text": [
            "WARNING:tensorflow:From /usr/local/lib/python3.6/dist-packages/tensorflow/python/ops/resource_variable_ops.py:1817: calling BaseResourceVariable.__init__ (from tensorflow.python.ops.resource_variable_ops) with constraint is deprecated and will be removed in a future version.\n",
            "Instructions for updating:\n",
            "If using Keras pass *_constraint arguments to layers.\n",
            "INFO:tensorflow:Assets written to: classification_model/assets\n"
          ],
          "name": "stdout"
        }
      ]
    },
    {
      "cell_type": "code",
      "metadata": {
        "id": "gXAKwqThyKpm",
        "colab_type": "code",
        "colab": {
          "base_uri": "https://localhost:8080/",
          "height": 35
        },
        "outputId": "1c0ea0dc-2b7e-47f3-a082-4198f40b05e6"
      },
      "source": [
        "! ls"
      ],
      "execution_count": null,
      "outputs": [
        {
          "output_type": "stream",
          "text": [
            "car_evaluation.csv  classification_model  petrol_consumption.csv  sample_data\n"
          ],
          "name": "stdout"
        }
      ]
    },
    {
      "cell_type": "code",
      "metadata": {
        "id": "kptVvFQNyQqX",
        "colab_type": "code",
        "colab": {}
      },
      "source": [
        "reloaded_model = tf.keras.models.load_model('classification_model')"
      ],
      "execution_count": null,
      "outputs": []
    },
    {
      "cell_type": "code",
      "metadata": {
        "id": "lczh2RO7yZDO",
        "colab_type": "code",
        "colab": {
          "base_uri": "https://localhost:8080/",
          "height": 52
        },
        "outputId": "d8d23e2f-91ac-45b8-db82-81b290b8788b"
      },
      "source": [
        "score = reloaded_model.evaluate(X_test, y_test, verbose=1)\n",
        "\n",
        "print(\"Test Accuracy:\", score[1])"
      ],
      "execution_count": null,
      "outputs": [
        {
          "output_type": "stream",
          "text": [
            "11/11 [==============================] - 0s 2ms/step - loss: 0.1392 - acc: 0.9451\n",
            "Test Accuracy: 0.9450867176055908\n"
          ],
          "name": "stdout"
        }
      ]
    },
    {
      "cell_type": "markdown",
      "metadata": {
        "id": "o5DmvfhuhaVJ",
        "colab_type": "text"
      },
      "source": [
        "## Saving the Model"
      ]
    },
    {
      "cell_type": "code",
      "metadata": {
        "id": "qknWkadKhc_y",
        "colab_type": "code",
        "colab": {
          "base_uri": "https://localhost:8080/",
          "height": 235
        },
        "outputId": "37208c70-c903-4430-ead0-a91d8a1cc7d5"
      },
      "source": [
        "# Create a simple model\n",
        "model = tf.keras.Sequential([\n",
        "  layers.Dense(10, activation='relu', input_shape=(32,)),\n",
        "  layers.Dense(10)\n",
        "])\n",
        "model.compile(optimizer='rmsprop',\n",
        "              loss=tf.keras.losses.CategoricalCrossentropy(from_logits=True),\n",
        "              metrics=['accuracy'])\n",
        "model.fit(data, labels, batch_size=32, epochs=5)\n",
        "\n",
        "\n",
        "# Save entire model to a HDF5 file\n",
        "model.save('my_model')\n",
        "\n",
        "# Recreate the exact same model, including weights and optimizer.\n",
        "model = tf.keras.models.load_model('my_model')"
      ],
      "execution_count": null,
      "outputs": [
        {
          "output_type": "error",
          "ename": "NameError",
          "evalue": "ignored",
          "traceback": [
            "\u001b[0;31m---------------------------------------------------------------------------\u001b[0m",
            "\u001b[0;31mNameError\u001b[0m                                 Traceback (most recent call last)",
            "\u001b[0;32m<ipython-input-27-6ba891a5b8ee>\u001b[0m in \u001b[0;36m<module>\u001b[0;34m()\u001b[0m\n\u001b[1;32m      1\u001b[0m model = tf.keras.Sequential([\n\u001b[0;32m----> 2\u001b[0;31m   \u001b[0mlayers\u001b[0m\u001b[0;34m.\u001b[0m\u001b[0mDense\u001b[0m\u001b[0;34m(\u001b[0m\u001b[0;36m10\u001b[0m\u001b[0;34m,\u001b[0m \u001b[0mactivation\u001b[0m\u001b[0;34m=\u001b[0m\u001b[0;34m'relu'\u001b[0m\u001b[0;34m,\u001b[0m \u001b[0minput_shape\u001b[0m\u001b[0;34m=\u001b[0m\u001b[0;34m(\u001b[0m\u001b[0;36m32\u001b[0m\u001b[0;34m,\u001b[0m\u001b[0;34m)\u001b[0m\u001b[0;34m)\u001b[0m\u001b[0;34m,\u001b[0m\u001b[0;34m\u001b[0m\u001b[0;34m\u001b[0m\u001b[0m\n\u001b[0m\u001b[1;32m      3\u001b[0m   \u001b[0mlayers\u001b[0m\u001b[0;34m.\u001b[0m\u001b[0mDense\u001b[0m\u001b[0;34m(\u001b[0m\u001b[0;36m10\u001b[0m\u001b[0;34m)\u001b[0m\u001b[0;34m\u001b[0m\u001b[0;34m\u001b[0m\u001b[0m\n\u001b[1;32m      4\u001b[0m ])\n\u001b[1;32m      5\u001b[0m model.compile(optimizer='rmsprop',\n",
            "\u001b[0;31mNameError\u001b[0m: name 'layers' is not defined"
          ]
        }
      ]
    },
    {
      "cell_type": "markdown",
      "metadata": {
        "id": "_9JHSajkhkGy",
        "colab_type": "text"
      },
      "source": [
        "Remember that TensorFlow and Keras don't represent a single workflow. It's a spectrum of workflows, each with its own trade-off between usability and flexibility. For instance, you've noticed that it's much easier to use fit than to write a custom training loop, but fit doesn't give you the same level of granular control for research use cases.\n",
        "\n",
        "So use the right tool for the job!\n",
        "\n",
        "A core principle of Keras is \"progressive disclosure of complexity\": it's easy to get started, and you can gradually dive into workflows where you write more and more logic from scratch, providing you with complete control.\n",
        "\n",
        "This applies to both model definition, and model training."
      ]
    }
  ]
}