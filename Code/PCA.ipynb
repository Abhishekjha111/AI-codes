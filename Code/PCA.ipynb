{
  "nbformat": 4,
  "nbformat_minor": 0,
  "metadata": {
    "colab": {
      "name": "PCA",
      "version": "0.3.2",
      "provenance": [],
      "collapsed_sections": []
    },
    "kernelspec": {
      "name": "python3",
      "display_name": "Python 3"
    }
  },
  "cells": [
    {
      "cell_type": "markdown",
      "metadata": {
        "id": "HAogrMArlIPB",
        "colab_type": "text"
      },
      "source": [
        "## Principal Component Analysis (PCA)\n",
        "\n",
        "In simple words, principal component analysis is a method of extracting important variables (in form of components) from a large set of variables available in a data set. It extracts low dimensional set of features from a high dimensional data set with a motive to capture as much information as possible. With fewer variables, visualization also becomes much more meaningful. PCA is more useful when dealing with 3 or higher dimensional data.\n",
        "\n",
        "It is always performed on a symmetric correlation or covariance matrix. This means the matrix should be numeric and have standardized data."
      ]
    },
    {
      "cell_type": "markdown",
      "metadata": {
        "id": "wvwId9HklW1Y",
        "colab_type": "text"
      },
      "source": [
        "Let’s say we have a data set of dimension 300 (n) × 50 (p). n represents the number of observations and p represents number of predictors. Since we have a large p = 50, there can be p(p-1)/2 scatter plots i.e more than 1000 plots possible to analyze the variable relationship. Wouldn’t is be a tedious job to perform exploratory analysis on this data ?\n",
        "\n",
        "In this case, it would be a lucid approach to select a subset of p (p << 50) predictor which captures as much information. Followed by plotting the observation in the resultant low dimensional space."
      ]
    },
    {
      "cell_type": "markdown",
      "metadata": {
        "id": "HeEZs5KzlgPH",
        "colab_type": "text"
      },
      "source": [
        "![alt text](http://www.nlpca.org/fig-pca-principal-component-analysis-m.png)\n",
        "\n",
        "\n",
        "**PCA transformation**\n",
        "\n",
        "Principal component analysis (PCA) rotates the original data space such that the axes of the new coordinate system point into the directions of highest variance of the data. The axes or new variables are termed principal components (PCs) and are ordered by variance: The first component, PC 1, represents the direction of the highest variance of the data. The direction of the second component, PC 2, represents the highest of the remaining variance orthogonal to the first component. This can be naturally extended to obtain the required number of components which together span a component space covering the desired amount of variance.\n",
        "\n",
        "Since components describe specific directions in the data space, each component depends by certain amounts on each of the original variables: Each component is a linear combination of all original variables."
      ]
    },
    {
      "cell_type": "markdown",
      "metadata": {
        "id": "Lu43Vy2DlohE",
        "colab_type": "text"
      },
      "source": [
        "**What are principal components ?**\n",
        "\n",
        "A principal component is a normalized linear combination of the original predictors in a data set. In image above, PC1 and PC2 are the principal components. Let’s say we have a set of predictors as X¹, X²...,Xp\n",
        "\n",
        "The principal component can be written as:\n",
        "\n",
        "Z¹ = Φ¹¹X¹ + Φ²¹X² + Φ³¹X³ + .... +Φp¹Xp\n",
        "\n",
        "where,\n",
        "\n",
        "* Z¹ is first principal component\n",
        "* Φp¹ is the loading vector comprising of loadings (Φ¹, Φ²..) of first principal component. The loadings are constrained to a sum of square equals to 1. This is because large magnitude of loadings may lead to large variance. It also defines the direction of the principal component (Z¹) along which data varies the most. It results in a line in p dimensional space which is closest to the n observations. Closeness is measured using average squared euclidean distance.\n",
        "* X¹..Xp are normalized predictors. Normalized predictors have mean equals to zero and standard deviation equals to one.\n",
        "\n",
        "\n",
        "Therefore,\n",
        "\n",
        "First principal component is a linear combination of original predictor variables which captures the maximum variance in the data set. It determines the direction of highest variability in the data. Larger the variability captured in first component, larger the information captured by component. No other component can have variability higher than first principal component.\n",
        "\n",
        "The first principal component results in a line which is closest to the data i.e. it minimizes the sum of squared distance between a data point and the line.\n",
        "\n",
        "Similarly, we can compute the second principal component also.\n",
        "\n",
        " \n",
        "\n",
        "Second principal component (Z²) is also a linear combination of original predictors which captures the remaining variance in the data set and is uncorrelated with Z¹. In other words, the correlation between first and second component should is zero. It can be represented as:\n",
        "\n",
        "Z² = Φ¹²X¹ + Φ²²X² + Φ³²X³ + .... + Φp2Xp\n",
        "\n",
        "If the two components are uncorrelated, their directions should be orthogonal (image below). This image is based on a simulated data with 2 predictors. Notice the direction of the components, as expected they are orthogonal. This suggests the correlation b/w these components in zero.\n",
        "\n",
        "\n",
        "![alt text](https://miro.medium.com/max/796/1*H38t3YUv_QktLwalzDYRRg.png)\n",
        "\n",
        "All succeeding principal component follows a similar concept i.e. they capture the remaining variation without being correlated with the previous component. In general, for n × p dimensional data, min(n-1, p) principal component can be constructed.\n",
        "\n",
        "The directions of these components are identified in an unsupervised way i.e. the response variable(Y) is not used to determine the component direction. Therefore, it is an unsupervised approach."
      ]
    },
    {
      "cell_type": "markdown",
      "metadata": {
        "id": "B2ylpVdYoqw1",
        "colab_type": "text"
      },
      "source": [
        "**Why is normalization of variables necessary ?**\n",
        "\n",
        "The principal components are supplied with normalized version of original predictors. This is because, the original predictors may have different scales. For example: Imagine a data set with variables’ measuring units as gallons, kilometers, light years etc. It is definite that the scale of variances in these variables will be large.\n",
        "\n",
        "Performing PCA on un-normalized variables will lead to insanely large loadings for variables with high variance. In turn, this will lead to dependence of a principal component on the variable with high variance. This is undesirable.\n",
        "\n"
      ]
    },
    {
      "cell_type": "code",
      "metadata": {
        "id": "5UH9PHkhtfFQ",
        "colab_type": "code",
        "colab": {}
      },
      "source": [
        "import numpy as np\n",
        "import matplotlib.pyplot as plt"
      ],
      "execution_count": 0,
      "outputs": []
    },
    {
      "cell_type": "code",
      "metadata": {
        "id": "b3wgL172loD3",
        "colab_type": "code",
        "outputId": "b2a604f1-4b37-4d4d-b1e0-6055dee724b2",
        "colab": {
          "base_uri": "https://localhost:8080/",
          "height": 337
        }
      },
      "source": [
        "rng = np.random.RandomState(1)\n",
        "X = np.dot(rng.rand(2, 2), rng.randn(2, 200)).T\n",
        "plt.scatter(X[:, 0], X[:, 1])\n",
        "plt.axis('equal')"
      ],
      "execution_count": 0,
      "outputs": [
        {
          "output_type": "execute_result",
          "data": {
            "text/plain": [
              "(-2.7391278364515688,\n",
              " 2.5801310701596343,\n",
              " -0.9477947579593762,\n",
              " 1.019590430670684)"
            ]
          },
          "metadata": {
            "tags": []
          },
          "execution_count": 2
        },
        {
          "output_type": "display_data",
          "data": {
            "image/png": "[encoded data removed]",
            "text/plain": [
              "<Figure size 432x288 with 1 Axes>"
            ]
          },
          "metadata": {
            "tags": []
          }
        }
      ]
    },
    {
      "cell_type": "code",
      "metadata": {
        "id": "kWqc87N8lfqR",
        "colab_type": "code",
        "outputId": "a05e1714-9497-45b0-f15e-f1e687801d24",
        "colab": {
          "base_uri": "https://localhost:8080/",
          "height": 51
        }
      },
      "source": [
        "from sklearn.decomposition import PCA\n",
        "pca = PCA(n_components=2)\n",
        "pca.fit(X)"
      ],
      "execution_count": 0,
      "outputs": [
        {
          "output_type": "execute_result",
          "data": {
            "text/plain": [
              "PCA(copy=True, iterated_power='auto', n_components=2, random_state=None,\n",
              "    svd_solver='auto', tol=0.0, whiten=False)"
            ]
          },
          "metadata": {
            "tags": []
          },
          "execution_count": 3
        }
      ]
    },
    {
      "cell_type": "code",
      "metadata": {
        "id": "OQbUZ-7bkyXr",
        "colab_type": "code",
        "outputId": "f8de6b7a-c8aa-447e-94ea-ca306fe1087f",
        "colab": {
          "base_uri": "https://localhost:8080/",
          "height": 51
        }
      },
      "source": [
        "print(pca.components_)"
      ],
      "execution_count": 0,
      "outputs": [
        {
          "output_type": "stream",
          "text": [
            "[[-0.94446029 -0.32862557]\n",
            " [-0.32862557  0.94446029]]\n"
          ],
          "name": "stdout"
        }
      ]
    },
    {
      "cell_type": "code",
      "metadata": {
        "id": "3HF7dEDSt8Lm",
        "colab_type": "code",
        "outputId": "31672522-f5cc-4a70-f769-8bc3a145cf5e",
        "colab": {
          "base_uri": "https://localhost:8080/",
          "height": 337
        }
      },
      "source": [
        "def draw_vector(v0, v1, ax=None):\n",
        "    ax = ax or plt.gca()\n",
        "    arrowprops=dict(arrowstyle='->',\n",
        "                    linewidth=2,\n",
        "                    shrinkA=0, shrinkB=0)\n",
        "    ax.annotate('', v1, v0, arrowprops=arrowprops)\n",
        "\n",
        "# plot data\n",
        "plt.scatter(X[:, 0], X[:, 1], alpha=0.2)\n",
        "for length, vector in zip(pca.explained_variance_, pca.components_):\n",
        "    v = vector * 3 * np.sqrt(length)\n",
        "    draw_vector(pca.mean_, pca.mean_ + v)\n",
        "plt.axis('equal')"
      ],
      "execution_count": 0,
      "outputs": [
        {
          "output_type": "execute_result",
          "data": {
            "text/plain": [
              "(-2.7391278364515688,\n",
              " 2.5801310701596343,\n",
              " -0.9477947579593762,\n",
              " 1.019590430670684)"
            ]
          },
          "metadata": {
            "tags": []
          },
          "execution_count": 5
        },
        {
          "output_type": "display_data",
          "data": {
            "image/png": "[encoded data removed]",
            "text/plain": [
              "<Figure size 432x288 with 1 Axes>"
            ]
          },
          "metadata": {
            "tags": []
          }
        }
      ]
    },
    {
      "cell_type": "markdown",
      "metadata": {
        "id": "JdIcKPwUuCWA",
        "colab_type": "text"
      },
      "source": [
        "These vectors represent the principal axes of the data, and the length of the vector is an indication of how \"important\" that axis is in describing the distribution of the data—more precisely, it is a measure of the variance of the data when projected onto that axis. The projection of each data point onto the principal axes are the \"principal components\" of the data."
      ]
    },
    {
      "cell_type": "code",
      "metadata": {
        "id": "-x3g8yu9uDxL",
        "colab_type": "code",
        "outputId": "a8228cd4-318f-4630-d978-f150353373ea",
        "colab": {
          "base_uri": "https://localhost:8080/",
          "height": 1000
        }
      },
      "source": [
        "pca = PCA(n_components=1)\n",
        "pca.fit(X)\n",
        "X_pca = pca.transform(X)\n",
        "print(\"original shape:   \", X.shape)\n",
        "print(\"transformed shape:\", X_pca.shape)\n",
        "print(X)\n",
        "print(X_pca)"
      ],
      "execution_count": 0,
      "outputs": [
        {
          "output_type": "stream",
          "text": [
            "original shape:    (200, 2)\n",
            "transformed shape: (200, 1)\n",
            "[[-6.25301618e-01 -1.70063657e-01]\n",
            " [ 9.60695033e-01  5.90900597e-01]\n",
            " [-5.98543385e-01 -4.02593393e-01]\n",
            " [-2.22805938e+00 -5.32576740e-01]\n",
            " [-4.61430060e-01 -4.98867244e-01]\n",
            " [-9.58929028e-01 -2.69331024e-01]\n",
            " [-6.73079909e-01 -3.38308547e-01]\n",
            " [ 1.30501861e+00  5.91357846e-01]\n",
            " [ 3.74545597e-01 -9.85442049e-02]\n",
            " [-1.82628627e+00 -4.06170254e-01]\n",
            " [ 6.68262284e-01  3.36877396e-01]\n",
            " [-5.82646676e-01 -1.77369217e-01]\n",
            " [-4.18128976e-01 -3.73811389e-01]\n",
            " [ 1.72209371e-01  2.64668836e-01]\n",
            " [ 3.77116687e-01  1.88442969e-01]\n",
            " [-6.79396230e-01 -1.31601978e-01]\n",
            " [ 1.03148960e+00  4.25550018e-01]\n",
            " [ 3.36041799e-01  3.90982721e-02]\n",
            " [ 7.05745985e-01  4.88730649e-01]\n",
            " [ 8.39511547e-01  1.52125872e-01]\n",
            " [ 1.49882898e+00  4.71380809e-01]\n",
            " [ 2.88356638e-01  3.31334714e-02]\n",
            " [-5.02935011e-01 -3.68665426e-01]\n",
            " [ 1.47921067e+00  7.40445724e-01]\n",
            " [-4.44382429e-01 -1.65019364e-01]\n",
            " [-5.33464228e-01 -6.02221911e-02]\n",
            " [-6.16229422e-01 -2.11783922e-01]\n",
            " [ 7.46598965e-02 -6.14321077e-02]\n",
            " [-1.13637011e-01  7.32877678e-02]\n",
            " [-2.00717298e-02  6.09744586e-02]\n",
            " [ 1.89582967e-01  1.99769369e-01]\n",
            " [ 9.38466103e-01  5.41731132e-01]\n",
            " [-3.66697989e-01 -3.64971376e-02]\n",
            " [-8.93528486e-01 -3.72814013e-01]\n",
            " [-1.31759571e+00 -3.57581073e-01]\n",
            " [-3.81802782e-01 -2.01252465e-01]\n",
            " [-5.13790216e-01 -5.05974086e-01]\n",
            " [ 9.03737934e-01  2.49518260e-01]\n",
            " [-4.38875079e-01 -1.50648130e-01]\n",
            " [-5.94170907e-01 -9.41224109e-02]\n",
            " [-3.12943931e-01 -6.57312966e-04]\n",
            " [-3.00229089e-01 -4.22050272e-01]\n",
            " [-5.99239320e-01 -2.60398180e-01]\n",
            " [ 2.20370036e-01  2.03914415e-01]\n",
            " [ 5.25164844e-01  1.87026363e-01]\n",
            " [ 5.56625011e-01 -1.33745094e-01]\n",
            " [ 1.35428157e+00  5.47397422e-01]\n",
            " [-6.83159806e-01 -3.94693187e-01]\n",
            " [-1.23325109e-01 -1.04266539e-01]\n",
            " [-3.13175458e-01 -6.98306619e-02]\n",
            " [-2.48838277e+00 -8.44571249e-01]\n",
            " [ 1.24996586e+00  5.85738115e-01]\n",
            " [ 1.76764431e-01  1.10730208e-01]\n",
            " [-5.07808538e-01 -3.15746300e-01]\n",
            " [ 1.82738502e+00  6.20232502e-01]\n",
            " [ 8.10156740e-01  1.77171194e-01]\n",
            " [ 4.28494398e-01  1.29892407e-01]\n",
            " [-6.81124709e-02 -1.83414149e-01]\n",
            " [-2.38085712e-01  3.20283053e-02]\n",
            " [-5.76511311e-01 -4.61119558e-01]\n",
            " [ 7.86579791e-01  2.40420951e-01]\n",
            " [-3.94028364e-01 -1.13238995e-01]\n",
            " [ 3.00281016e-01  4.05830103e-02]\n",
            " [ 8.34354492e-01  3.63411695e-01]\n",
            " [ 6.77025394e-01  8.62180588e-02]\n",
            " [ 8.22858785e-01  7.95262868e-02]\n",
            " [ 1.11060226e+00  8.38447209e-02]\n",
            " [-1.11056320e+00 -2.21851614e-01]\n",
            " [-3.25581172e-05  2.52586287e-01]\n",
            " [ 9.01346004e-01  4.66550032e-01]\n",
            " [ 6.13325282e-01  2.29429972e-01]\n",
            " [ 1.00280321e+00  2.67636970e-01]\n",
            " [-5.00300647e-01 -2.65194678e-01]\n",
            " [-1.46839080e+00 -2.62591632e-01]\n",
            " [-1.16559210e+00 -4.35658777e-01]\n",
            " [ 1.23290571e+00  3.72644940e-01]\n",
            " [-8.71374166e-02 -7.68205362e-02]\n",
            " [ 1.32611731e+00  4.23305575e-01]\n",
            " [-6.55945864e-01 -2.36422799e-01]\n",
            " [-3.98868969e-01 -1.32296178e-01]\n",
            " [ 1.46537233e-01  2.88714500e-02]\n",
            " [ 8.34743614e-01  2.78631269e-01]\n",
            " [ 1.26455201e-01  1.83894435e-02]\n",
            " [ 2.01707556e-01  6.38435019e-02]\n",
            " [-2.67775720e-01  4.92011507e-03]\n",
            " [ 2.85085062e-01  5.36128031e-02]\n",
            " [-7.53418549e-01 -3.37531319e-01]\n",
            " [ 5.29313417e-01  2.45960831e-02]\n",
            " [ 3.65577719e-01 -5.62717811e-02]\n",
            " [ 3.62822350e-02 -1.71587143e-02]\n",
            " [ 1.98139998e-01  1.48806454e-01]\n",
            " [-7.56673772e-01 -2.05864228e-01]\n",
            " [ 1.15733262e-01 -2.55010922e-02]\n",
            " [-1.81944537e-01 -8.98933373e-02]\n",
            " [ 1.57198306e-01  1.26124661e-01]\n",
            " [ 5.83470370e-01  2.37266716e-01]\n",
            " [-9.46770213e-01 -2.88927090e-01]\n",
            " [ 7.13140353e-01  1.77219645e-01]\n",
            " [ 1.30157187e+00  6.24502445e-01]\n",
            " [-5.49063710e-01 -4.44638605e-01]\n",
            " [-4.29728257e-01 -2.50941856e-01]\n",
            " [-3.86766308e-01 -2.66159401e-01]\n",
            " [-6.57643258e-01 -8.45055625e-02]\n",
            " [ 1.23961415e+00  4.90659512e-01]\n",
            " [ 3.18446596e-01  4.12165000e-03]\n",
            " [-8.98118949e-01 -2.10137581e-01]\n",
            " [ 3.36881319e-01  1.87961004e-01]\n",
            " [-4.18452911e-01 -1.81336717e-01]\n",
            " [ 2.36601159e-01  3.39487039e-01]\n",
            " [ 3.51319728e-01  9.23282159e-02]\n",
            " [ 1.35323942e+00  4.19970027e-01]\n",
            " [-8.34819518e-01 -2.00044213e-01]\n",
            " [ 2.32938600e+00  9.16366922e-01]\n",
            " [ 4.67174434e-02  2.49148699e-01]\n",
            " [ 4.55373238e-01  1.97896476e-01]\n",
            " [-7.10684919e-01 -1.56607387e-02]\n",
            " [-5.50095165e-02 -2.19243382e-01]\n",
            " [-4.54554511e-01 -2.62307969e-01]\n",
            " [-1.08213611e-01 -4.11131904e-02]\n",
            " [-8.97552407e-01 -2.41129284e-01]\n",
            " [ 7.34802491e-01  8.56077609e-02]\n",
            " [ 2.25266501e-01 -2.49531175e-01]\n",
            " [-3.27438240e-01  1.87561024e-01]\n",
            " [ 1.20422548e+00  2.89208121e-01]\n",
            " [ 1.70331974e-01 -2.13212414e-01]\n",
            " [ 1.00007930e+00  3.60626507e-01]\n",
            " [-6.71516563e-01 -7.20747636e-02]\n",
            " [ 1.19221616e+00  3.49379904e-01]\n",
            " [ 2.40174205e-01  1.32451266e-01]\n",
            " [ 5.56592389e-01  3.39247336e-01]\n",
            " [-1.23113909e+00 -3.01572247e-01]\n",
            " [ 1.52659926e-01 -3.22243331e-02]\n",
            " [ 1.37611796e+00  4.38905019e-01]\n",
            " [-7.05213114e-01 -1.86923986e-01]\n",
            " [-1.25035415e+00 -6.15852747e-01]\n",
            " [-1.87651011e+00 -5.87438869e-01]\n",
            " [-1.47105690e+00 -7.57686938e-01]\n",
            " [-1.50346447e+00 -6.39175291e-01]\n",
            " [-3.74317472e-01 -1.24473266e-01]\n",
            " [ 8.78524826e-01  3.86529047e-01]\n",
            " [ 4.37960653e-02 -1.33600937e-01]\n",
            " [ 5.45982844e-01  9.78986853e-02]\n",
            " [ 1.41569127e-01 -3.31934527e-02]\n",
            " [ 6.35824494e-02  2.60037422e-03]\n",
            " [-8.87046213e-02 -5.08430872e-02]\n",
            " [ 1.32411808e-01 -5.25896645e-02]\n",
            " [ 4.29143144e-01  1.39451520e-01]\n",
            " [-5.62450166e-01 -3.55459800e-01]\n",
            " [ 5.98293829e-01  3.05358879e-01]\n",
            " [-3.52669474e-01  2.77872905e-01]\n",
            " [ 2.92708138e-01 -5.88533723e-02]\n",
            " [ 1.49216325e+00  2.43746801e-01]\n",
            " [-3.21136884e-01 -2.11988784e-01]\n",
            " [-4.28741839e-01 -1.62431474e-01]\n",
            " [ 5.56602182e-02  4.72280460e-02]\n",
            " [-1.86669080e-01 -5.75236287e-02]\n",
            " [-3.15976890e-01 -1.35666133e-01]\n",
            " [-9.52287292e-01 -2.03431276e-01]\n",
            " [-6.17216871e-01 -1.68607956e-01]\n",
            " [ 2.60724124e-01  2.83827268e-01]\n",
            " [-1.29606872e+00 -5.87501508e-01]\n",
            " [ 1.30204436e-01  1.06536600e-01]\n",
            " [ 3.62026915e-02 -7.14259522e-02]\n",
            " [ 4.51406829e-01  2.20021746e-01]\n",
            " [ 7.82343617e-01  1.55836343e-01]\n",
            " [-1.91527940e+00 -8.41226381e-01]\n",
            " [ 1.33470527e+00  1.77008275e-01]\n",
            " [-5.57241554e-01  9.78217703e-02]\n",
            " [-2.54030157e-01  6.53585666e-03]\n",
            " [ 3.83426415e-02 -1.41592253e-01]\n",
            " [ 1.66900682e+00  2.58263884e-01]\n",
            " [-4.01201302e-01 -1.24900651e-01]\n",
            " [ 1.33980298e+00  5.54699895e-01]\n",
            " [ 3.12160775e-01  1.70605436e-01]\n",
            " [ 2.09517683e+00  6.46487345e-01]\n",
            " [-6.85653080e-01 -2.37525375e-01]\n",
            " [-9.81232159e-01 -5.30795733e-01]\n",
            " [ 3.81516151e-01  2.16067601e-01]\n",
            " [ 8.35386181e-02  2.57654664e-01]\n",
            " [ 1.56227043e-01  1.07263711e-02]\n",
            " [-8.98591326e-01 -4.65169769e-01]\n",
            " [ 2.16673778e-01 -1.35265391e-01]\n",
            " [ 3.99091276e-01  1.86824524e-01]\n",
            " [-3.90120284e-01 -5.57531130e-02]\n",
            " [ 1.51136791e-01 -3.50017338e-02]\n",
            " [-2.59947279e-02 -5.30194271e-02]\n",
            " [-5.55678088e-01 -2.82320719e-01]\n",
            " [-4.14437203e-01 -1.61157769e-01]\n",
            " [-5.43696094e-01 -4.31161457e-01]\n",
            " [ 1.42759145e+00  5.34554140e-01]\n",
            " [ 4.51861867e-01 -1.43502859e-01]\n",
            " [ 8.07369404e-01  1.44524192e-01]\n",
            " [-4.61251208e-01 -3.08874028e-01]\n",
            " [-1.06359448e-01  2.40025629e-01]\n",
            " [-1.09810334e+00 -5.66248687e-01]\n",
            " [ 8.38408546e-01  2.78380007e-01]\n",
            " [ 3.12708310e-01 -1.06001233e-02]\n",
            " [ 1.95587585e+00  6.38224114e-01]\n",
            " [-1.10830352e+00 -3.95053658e-01]\n",
            " [ 3.98647206e-01  2.31865526e-02]]\n",
            "[[ 6.76769235e-01]\n",
            " [-1.07121393e+00]\n",
            " [ 7.27912364e-01]\n",
            " [ 2.30964136e+00]\n",
            " [ 6.30052323e-01]\n",
            " [ 1.02448887e+00]\n",
            " [ 7.77183507e-01]\n",
            " [-1.39656414e+00]\n",
            " [-2.91049874e-01]\n",
            " [ 1.88864221e+00]\n",
            " [-7.11544293e-01]\n",
            " [ 6.38884130e-01]\n",
            " [ 5.48059617e-01]\n",
            " [-2.19312436e-01]\n",
            " [-3.87789490e-01]\n",
            " [ 7.15219956e-01]\n",
            " [-1.08373816e+00]\n",
            " [-2.99917403e-01]\n",
            " [-7.96849021e-01]\n",
            " [-8.12568346e-01]\n",
            " [-1.54018281e+00]\n",
            " [-2.52920476e-01]\n",
            " [ 6.26464454e-01]\n",
            " [-1.61007571e+00]\n",
            " [ 5.04240563e-01]\n",
            " [ 5.53935753e-01]\n",
            " [ 6.81911252e-01]\n",
            " [-2.00157228e-02]\n",
            " [ 1.13550833e-01]\n",
            " [ 2.92286085e-02]\n",
            " [-2.14393483e-01]\n",
            " [-1.03406124e+00]\n",
            " [ 3.88635004e-01]\n",
            " [ 9.96727811e-01]\n",
            " [ 1.39223653e+00]\n",
            " [ 4.57043694e-01]\n",
            " [ 6.81839901e-01]\n",
            " [-9.05233246e-01]\n",
            " [ 4.94316334e-01]\n",
            " [ 6.22411280e-01]\n",
            " [ 3.26088548e-01]\n",
            " [ 4.52560386e-01]\n",
            " [ 6.81840663e-01]\n",
            " [-2.44832816e-01]\n",
            " [-5.27149562e-01]\n",
            " [-4.51448737e-01]\n",
            " [-1.42864453e+00]\n",
            " [ 8.05233004e-01]\n",
            " [ 1.81049742e-01]\n",
            " [ 3.49039347e-01]\n",
            " [ 2.65803583e+00]\n",
            " [-1.34272221e+00]\n",
            " [-1.73026340e-01]\n",
            " [ 6.13676729e-01]\n",
            " [-1.89940741e+00]\n",
            " [-7.93074429e-01]\n",
            " [-4.17072486e-01]\n",
            " [ 1.54913526e-01]\n",
            " [ 2.44646603e-01]\n",
            " [ 7.26337140e-01]\n",
            " [-7.91592424e-01]\n",
            " [ 4.39666794e-01]\n",
            " [-2.66630687e-01]\n",
            " [-8.77131636e-01]\n",
            " [-6.37447634e-01]\n",
            " [-7.72982393e-01]\n",
            " [-1.04616382e+00]\n",
            " [ 1.15209837e+00]\n",
            " [-5.26661400e-02]\n",
            " [-9.74296354e-01]\n",
            " [-6.24348505e-01]\n",
            " [-1.00475074e+00]\n",
            " [ 5.89973268e-01]\n",
            " [ 1.50344054e+00]\n",
            " [ 1.27433349e+00]\n",
            " [-1.25658172e+00]\n",
            " [ 1.37852445e-01]\n",
            " [-1.36126475e+00]\n",
            " [ 7.27518820e-01]\n",
            " [ 4.50501231e-01]\n",
            " [-1.17577071e-01]\n",
            " [-8.49638130e-01]\n",
            " [-9.51657336e-02]\n",
            " [-1.81175961e-01]\n",
            " [ 2.81596080e-01]\n",
            " [-2.56560634e-01]\n",
            " [ 8.52804745e-01]\n",
            " [-4.77688980e-01]\n",
            " [-2.96471868e-01]\n",
            " [ 1.68108524e-03]\n",
            " [-2.05727542e-01]\n",
            " [ 8.12610001e-01]\n",
            " [-7.06157363e-02]\n",
            " [ 2.31690062e-01]\n",
            " [-1.59605923e-01]\n",
            " [-5.98727081e-01]\n",
            " [ 1.01944512e+00]\n",
            " [-7.01462226e-01]\n",
            " [-1.40420099e+00]\n",
            " [ 6.94997907e-01]\n",
            " [ 5.18636606e-01]\n",
            " [ 4.83061626e-01]\n",
            " [ 6.79198052e-01]\n",
            " [-1.30170017e+00]\n",
            " [-2.71805220e-01]\n",
            " [ 9.47603686e-01]\n",
            " [-3.49630397e-01]\n",
            " [ 4.85113462e-01]\n",
            " [-3.04715098e-01]\n",
            " [-3.31839520e-01]\n",
            " [-1.38578436e+00]\n",
            " [ 8.84502948e-01]\n",
            " [-2.47084475e+00]\n",
            " [-9.56899804e-02]\n",
            " [-4.64806358e-01]\n",
            " [ 7.06669625e-01]\n",
            " [ 1.54312708e-01]\n",
            " [ 5.45819213e-01]\n",
            " [ 1.46023727e-01]\n",
            " [ 9.57253276e-01]\n",
            " [-6.91815248e-01]\n",
            " [-1.00443516e-01]\n",
            " [ 2.77924488e-01]\n",
            " [-1.20207491e+00]\n",
            " [-6.04953108e-02]\n",
            " [-1.03273685e+00]\n",
            " [ 6.88215760e-01]\n",
            " [-1.21050656e+00]\n",
            " [-2.40052449e-01]\n",
            " [-6.06855334e-01]\n",
            " [ 1.29217575e+00]\n",
            " [-1.03282074e-01]\n",
            " [-1.41361475e+00]\n",
            " [ 7.57783205e-01]\n",
            " [ 1.41360423e+00]\n",
            " [ 1.99564613e+00]\n",
            " [ 1.66865955e+00]\n",
            " [ 1.66032125e+00]\n",
            " [ 4.24742508e-01]\n",
            " [-9.26445715e-01]\n",
            " [ 3.28504629e-02]\n",
            " [-5.17521702e-01]\n",
            " [-9.24887775e-02]\n",
            " [-3.05962249e-02]\n",
            " [ 1.30795754e-01]\n",
            " [-7.74659629e-02]\n",
            " [-4.20826569e-01]\n",
            " [ 6.78334448e-01]\n",
            " [-6.35104074e-01]\n",
            " [ 2.72075594e-01]\n",
            " [-2.26801066e-01]\n",
            " [-1.45908094e+00]\n",
            " [ 4.03275391e-01]\n",
            " [ 4.88618199e-01]\n",
            " [-3.77797862e-02]\n",
            " [ 2.25514691e-01]\n",
            " [ 3.73320407e-01]\n",
            " [ 9.96559672e-01]\n",
            " [ 6.68655132e-01]\n",
            " [-3.09207055e-01]\n",
            " [ 1.44746288e+00]\n",
            " [-1.27674147e-01]\n",
            " [ 1.95898129e-02]\n",
            " [-4.68331172e-01]\n",
            " [-7.59794861e-01]\n",
            " [ 2.11566325e+00]\n",
            " [-1.28843614e+00]\n",
            " [ 5.24455206e-01]\n",
            " [ 2.68082969e-01]\n",
            " [ 4.06271559e-02]\n",
            " [-1.63087335e+00]\n",
            " [ 4.50273668e-01]\n",
            " [-1.41736985e+00]\n",
            " [-3.20579341e-01]\n",
            " [-2.16095416e+00]\n",
            " [ 7.55938440e-01]\n",
            " [ 1.13147728e+00]\n",
            " [-4.01022769e-01]\n",
            " [-1.33261395e-01]\n",
            " [-1.20765775e-01]\n",
            " [ 1.03185993e+00]\n",
            " [-1.29878689e-01]\n",
            " [-4.08011754e-01]\n",
            " [ 4.17084437e-01]\n",
            " [-1.00930809e-01]\n",
            " [ 7.22839507e-02]\n",
            " [ 6.47903117e-01]\n",
            " [ 4.74689466e-01]\n",
            " [ 6.85499472e-01]\n",
            " [-1.49366216e+00]\n",
            " [-3.49297457e-01]\n",
            " [-7.79713261e-01]\n",
            " [ 5.67446775e-01]\n",
            " [ 5.18831382e-02]\n",
            " [ 1.25350822e+00]\n",
            " [-8.53016941e-01]\n",
            " [-2.61547685e-01]\n",
            " [-2.02667441e+00]\n",
            " [ 1.20688282e+00]\n",
            " [-3.53816725e-01]]\n"
          ],
          "name": "stdout"
        }
      ]
    },
    {
      "cell_type": "code",
      "metadata": {
        "id": "2AxA6tzpuWMT",
        "colab_type": "code",
        "outputId": "252ff29d-de59-42fb-e382-3527b09b6ce9",
        "colab": {
          "base_uri": "https://localhost:8080/",
          "height": 286
        }
      },
      "source": [
        "X_new = pca.inverse_transform(X_pca)\n",
        "plt.scatter(X[:, 0], X[:, 1], alpha=0.2)\n",
        "plt.scatter(X_new[:, 0], X_new[:, 1], alpha=0.8)\n",
        "plt.axis('equal')"
      ],
      "execution_count": 0,
      "outputs": [
        {
          "output_type": "execute_result",
          "data": {
            "text/plain": [
              "(-2.771528780690219, 2.661757596590678, -0.9964674432667128, 1.021908177590081)"
            ]
          },
          "metadata": {
            "tags": []
          },
          "execution_count": 7
        },
        {
          "output_type": "display_data",
          "data": {
            "image/png": "[encoded data removed]",
            "text/plain": [
              "<Figure size 432x288 with 1 Axes>"
            ]
          },
          "metadata": {
            "tags": []
          }
        }
      ]
    },
    {
      "cell_type": "markdown",
      "metadata": {
        "id": "PyHZYUFcucKu",
        "colab_type": "text"
      },
      "source": [
        "The light blue points are the original data, while the orange points are the projected version. This makes clear what a PCA dimensionality reduction means: the information along the least important principal axis or axes is removed, leaving only the component(s) of the data with the highest variance. The fraction of variance that is cut out (proportional to the spread of points about the line formed in this figure) is roughly a measure of how much \"information\" is discarded in this reduction of dimensionality.\n",
        "\n",
        "This reduced-dimension dataset is in some senses \"good enough\" to encode the most important relationships between the points: despite reducing the dimension of the data by 50%, the overall relationship between the data points are mostly preserved."
      ]
    },
    {
      "cell_type": "code",
      "metadata": {
        "id": "EOeIjHYOvKNN",
        "colab_type": "code",
        "outputId": "95f6f78d-f3ff-43af-a579-0ed250357e9b",
        "colab": {
          "base_uri": "https://localhost:8080/",
          "height": 34
        }
      },
      "source": [
        "from sklearn.datasets import load_digits\n",
        "digits = load_digits()\n",
        "digits.data.shape"
      ],
      "execution_count": 0,
      "outputs": [
        {
          "output_type": "execute_result",
          "data": {
            "text/plain": [
              "(1797, 64)"
            ]
          },
          "metadata": {
            "tags": []
          },
          "execution_count": 8
        }
      ]
    },
    {
      "cell_type": "code",
      "metadata": {
        "id": "gool8hkjvPVf",
        "colab_type": "code",
        "outputId": "f8f48b16-6545-41b6-c045-867ebda283ad",
        "colab": {
          "base_uri": "https://localhost:8080/",
          "height": 51
        }
      },
      "source": [
        "pca = PCA(2)  # project from 64 to 2 dimensions\n",
        "projected = pca.fit_transform(digits.data)\n",
        "print(digits.data.shape)\n",
        "print(projected.shape)"
      ],
      "execution_count": 0,
      "outputs": [
        {
          "output_type": "stream",
          "text": [
            "(1797, 64)\n",
            "(1797, 2)\n"
          ],
          "name": "stdout"
        }
      ]
    },
    {
      "cell_type": "code",
      "metadata": {
        "id": "jeupwU67oEZz",
        "colab_type": "code",
        "outputId": "57a3cb27-5d37-426c-b865-ce584a7dfafd",
        "colab": {
          "base_uri": "https://localhost:8080/",
          "height": 136
        }
      },
      "source": [
        "digits.data"
      ],
      "execution_count": 0,
      "outputs": [
        {
          "output_type": "execute_result",
          "data": {
            "text/plain": [
              "array([[ 0.,  0.,  5., ...,  0.,  0.,  0.],\n",
              "       [ 0.,  0.,  0., ..., 10.,  0.,  0.],\n",
              "       [ 0.,  0.,  0., ..., 16.,  9.,  0.],\n",
              "       ...,\n",
              "       [ 0.,  0.,  1., ...,  6.,  0.,  0.],\n",
              "       [ 0.,  0.,  2., ..., 12.,  0.,  0.],\n",
              "       [ 0.,  0., 10., ..., 12.,  1.,  0.]])"
            ]
          },
          "metadata": {
            "tags": []
          },
          "execution_count": 10
        }
      ]
    },
    {
      "cell_type": "code",
      "metadata": {
        "id": "96rSZ1kEoPAB",
        "colab_type": "code",
        "outputId": "da757693-2e67-4711-9f5c-5cf24feb0b7c",
        "colab": {
          "base_uri": "https://localhost:8080/",
          "height": 136
        }
      },
      "source": [
        "projected"
      ],
      "execution_count": 0,
      "outputs": [
        {
          "output_type": "execute_result",
          "data": {
            "text/plain": [
              "array([[ -1.25946677,  21.27488087],\n",
              "       [  7.9576096 , -20.76870288],\n",
              "       [  6.99192432,  -9.95598207],\n",
              "       ...,\n",
              "       [ 10.80128399,  -6.96024908],\n",
              "       [ -4.87209988,  12.42393698],\n",
              "       [ -0.34438786,   6.36555528]])"
            ]
          },
          "metadata": {
            "tags": []
          },
          "execution_count": 11
        }
      ]
    },
    {
      "cell_type": "code",
      "metadata": {
        "id": "qkBymkabvVH4",
        "colab_type": "code",
        "outputId": "efaee3b8-72ed-49b2-b8c9-5264268e2c46",
        "colab": {
          "base_uri": "https://localhost:8080/",
          "height": 300
        }
      },
      "source": [
        "plt.scatter(projected[:, 0], projected[:, 1],\n",
        "            c=digits.target, edgecolor='none', alpha=0.5,\n",
        "            cmap=plt.cm.get_cmap('inferno', 10))\n",
        "plt.xlabel('component 1')\n",
        "plt.ylabel('component 2')\n",
        "plt.colorbar()"
      ],
      "execution_count": 0,
      "outputs": [
        {
          "output_type": "execute_result",
          "data": {
            "text/plain": [
              "<matplotlib.colorbar.Colorbar at 0x7fbe4d554240>"
            ]
          },
          "metadata": {
            "tags": []
          },
          "execution_count": 12
        },
        {
          "output_type": "display_data",
          "data": {
            "image/png": "[encoded data removed]",
            "text/plain": [
              "<Figure size 432x288 with 2 Axes>"
            ]
          },
          "metadata": {
            "tags": []
          }
        }
      ]
    },
    {
      "cell_type": "markdown",
      "metadata": {
        "id": "u2OEn-F9znV7",
        "colab_type": "text"
      },
      "source": [
        "Recall what these components mean: the full data is a 64-dimensional point cloud, and these points are the projection of each data point along the directions with the largest variance. Essentially, we have found the optimal stretch and rotation in 64-dimensional space that allows us to see the layout of the digits in two dimensions, and have done this in an unsupervised manner—that is, without reference to the labels."
      ]
    },
    {
      "cell_type": "markdown",
      "metadata": {
        "id": "liGvL3jTzvYh",
        "colab_type": "text"
      },
      "source": [
        "What do the components mean?\n",
        "We can go a bit further here, and begin to ask what the reduced dimensions mean. This meaning can be understood in terms of combinations of basis vectors. For example, each image in the training set is defined by a collection of 64 pixel values, which we will call the vector $x$:\n",
        "\n",
        "$$\n",
        "x = [x_1, x_2, x_3 \\cdots x_{64}]\n",
        "$$\n",
        "One way we can think about this is in terms of a pixel basis. That is, to construct the image, we multiply each element of the vector by the pixel it describes, and then add the results together to build the image:\n",
        "\n",
        "$$\n",
        "{\\rm image}(x) = x_1 \\cdot{\\rm (pixel~1)} + x_2 \\cdot{\\rm (pixel~2)} + x_3 \\cdot{\\rm (pixel~3)} \\cdots x_{64} \\cdot{\\rm (pixel~64)}\n",
        "$$\n",
        "One way we might imagine reducing the dimension of this data is to zero out all but a few of these basis vectors. For example, if we use only the first eight pixels, we get an eight-dimensional projection of the data, but it is not very reflective of the whole image: we've thrown out nearly 90% of the pixels!\n",
        "\n",
        "![alt text](https://github.com/jakevdp/PythonDataScienceHandbook/raw/8a34a4f653bdbdc01415a94dc20d4e9b97438965/notebooks/figures/05.09-digits-pixel-components.png)"
      ]
    },
    {
      "cell_type": "markdown",
      "metadata": {
        "id": "n9v8db1X0FcF",
        "colab_type": "text"
      },
      "source": [
        "The upper row of panels shows the individual pixels, and the lower row shows the cumulative contribution of these pixels to the construction of the image. Using only eight of the pixel-basis components, we can only construct a small portion of the 64-pixel image. Were we to continue this sequence and use all 64 pixels, we would recover the original image.\n",
        "\n",
        "But the pixel-wise representation is not the only choice of basis. We can also use other basis functions, which each contain some pre-defined contribution from each pixel, and write something like\n",
        "\n",
        "$$\n",
        "image(x) = {\\rm mean} + x_1 \\cdot{\\rm (basis~1)} + x_2 \\cdot{\\rm (basis~2)} + x_3 \\cdot{\\rm (basis~3)} \\cdots\n",
        "$$\n",
        "PCA can be thought of as a process of choosing optimal basis functions, such that adding together just the first few of them is enough to suitably reconstruct the bulk of the elements in the dataset. The principal components, which act as the low-dimensional representation of our data, are simply the coefficients that multiply each of the elements in this series.\n",
        "\n",
        "![alt text](https://github.com/jakevdp/PythonDataScienceHandbook/raw/8a34a4f653bdbdc01415a94dc20d4e9b97438965/notebooks/figures/05.09-digits-pca-components.png)\n",
        "\n",
        "Unlike the pixel basis, the PCA basis allows us to recover the salient features of the input image with just a mean plus eight components! The amount of each pixel in each component is the corollary of the orientation of the vector in our two-dimensional example. This is the sense in which PCA provides a low-dimensional representation of the data: it discovers a set of basis functions that are more efficient than the native pixel-basis of the input data."
      ]
    },
    {
      "cell_type": "code",
      "metadata": {
        "id": "iHYCMNOtzm12",
        "colab_type": "code",
        "outputId": "bd133da1-70ed-41ff-82cb-46c366d05002",
        "colab": {
          "base_uri": "https://localhost:8080/",
          "height": 582
        }
      },
      "source": [
        "pca = PCA().fit(digits.data)\n",
        "print(pca.explained_variance_ratio_)\n",
        "plt.plot(np.cumsum(pca.explained_variance_ratio_))\n",
        "plt.xlabel('number of components')\n",
        "plt.ylabel('cumulative explained variance')"
      ],
      "execution_count": 0,
      "outputs": [
        {
          "output_type": "stream",
          "text": [
            "[1.48905936e-01 1.36187712e-01 1.17945938e-01 8.40997942e-02\n",
            " 5.78241466e-02 4.91691032e-02 4.31598701e-02 3.66137258e-02\n",
            " 3.35324810e-02 3.07880621e-02 2.37234084e-02 2.27269657e-02\n",
            " 1.82186331e-02 1.77385494e-02 1.46710109e-02 1.40971560e-02\n",
            " 1.31858920e-02 1.24813782e-02 1.01771796e-02 9.05617439e-03\n",
            " 8.89538461e-03 7.97123157e-03 7.67493255e-03 7.22903569e-03\n",
            " 6.95888851e-03 5.96081458e-03 5.75614688e-03 5.15157582e-03\n",
            " 4.89539777e-03 4.28887968e-03 3.73606048e-03 3.53274223e-03\n",
            " 3.36683986e-03 3.28029851e-03 3.08320884e-03 2.93778629e-03\n",
            " 2.56588609e-03 2.27742397e-03 2.22277922e-03 2.11430393e-03\n",
            " 1.89909062e-03 1.58652907e-03 1.51159934e-03 1.40578764e-03\n",
            " 1.16622290e-03 1.07492521e-03 9.64053065e-04 7.74630271e-04\n",
            " 5.57211553e-04 4.04330693e-04 2.09916327e-04 8.24797098e-05\n",
            " 5.25149980e-05 5.05243719e-05 3.29961363e-05 1.24365445e-05\n",
            " 7.04827911e-06 3.01432139e-06 1.06230800e-06 5.50074587e-07\n",
            " 3.42905702e-07 9.50687638e-34 9.50687638e-34 9.36179501e-34]\n"
          ],
          "name": "stdout"
        },
        {
          "output_type": "execute_result",
          "data": {
            "text/plain": [
              "Text(0, 0.5, 'cumulative explained variance')"
            ]
          },
          "metadata": {
            "tags": []
          },
          "execution_count": 13
        },
        {
          "output_type": "display_data",
          "data": {
            "image/png": "[encoded data removed]",
            "text/plain": [
              "<Figure size 432x288 with 1 Axes>"
            ]
          },
          "metadata": {
            "tags": []
          }
        }
      ]
    },
    {
      "cell_type": "markdown",
      "metadata": {
        "id": "VFSCnxZd4Ggx",
        "colab_type": "text"
      },
      "source": [
        "PCA's main weakness is that it tends to be highly affected by outliers in the data. For this reason, many robust variants of PCA have been developed, many of which act to iteratively discard data points that are poorly described by the initial components. Scikit-Learn contains a couple interesting variants on PCA, including RandomizedPCA and SparsePCA, both also in the sklearn.decomposition submodule. RandomizedPCA uses a non-deterministic method to quickly approximate the first few principal components in very high-dimensional data, while SparsePCA introduces a regularization term that serves to enforce sparsity of the components."
      ]
    }
  ]
}