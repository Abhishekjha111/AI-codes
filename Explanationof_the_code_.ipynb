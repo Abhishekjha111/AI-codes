{
  "nbformat": 4,
  "nbformat_minor": 0,
  "metadata": {
    "colab": {
      "provenance": [],
      "authorship_tag": "ABX9TyMwGveky7Zf6IMyaZXoodZG",
      "include_colab_link": true
    },
    "kernelspec": {
      "name": "python3",
      "display_name": "Python 3"
    },
    "language_info": {
      "name": "python"
    }
  },
  "cells": [
    {
      "cell_type": "markdown",
      "metadata": {
        "id": "view-in-github",
        "colab_type": "text"
      },
      "source": [
        "<a href=\"https://colab.research.google.com/github/Abhishekjha111/AI-codes/blob/master/Explanationof_the_code_.ipynb\" target=\"_parent\"><img src=\"https://colab.research.google.com/assets/colab-badge.svg\" alt=\"Open In Colab\"/></a>"
      ]
    },
    {
      "cell_type": "markdown",
      "source": [
        "\n",
        "import easyocr\n",
        "import os\n",
        "import pandas as pd\n",
        "\n",
        "- These lines import the necessary libraries: `easyocr` for text extraction, `os` for working with the file system, and `pandas` for handling data in DataFrames.\n",
        "\n",
        "# Initialize the EasyOCR reader\n",
        "reader = easyocr.Reader(['en'])  # You can add more languages as needed\n",
        "\n",
        "- Here, we initialize an EasyOCR reader for English ('en') text extraction. You can specify additional languages as needed.\n",
        "\n",
        "# Path to the folder containing your images\n",
        "image_path = \"C:/Users/aj941891/sample_images\"\n",
        "\n",
        "\n",
        "- This line defines the path to the folder where your images are located. You should replace this with the actual path to your image folder.\n",
        "\n",
        "# Function to extract text from an image\n",
        "def extract_text_from_image(image_path):\n",
        "    try:\n",
        "        # Use EasyOCR to extract text from the image\n",
        "        result = reader.readtext(image_path)\n",
        "\n",
        "- This defines a function `extract_text_from_image` that takes an image file path as an argument. Inside the function, we use the `reader.readtext()` method from EasyOCR to extract text from the image.\n",
        "\n",
        "\n",
        "        # Initialize a list to store extracted text\n",
        "        extracted_text = []\n",
        "\n",
        "\n",
        "- We initialize an empty list called `extracted_text` to store the extracted text from the image.\n",
        "\n",
        "\n",
        "        # Process the results from EasyOCR\n",
        "        for (bbox, text, prob) in result:\n",
        "\n",
        "\n",
        "- We loop through the results obtained from EasyOCR. `bbox` represents the bounding box of the detected text, `text` is the extracted text, and `prob` is the probability/confidence score of the extraction.\n",
        "\n",
        "            extracted_text.append(text)\n",
        "\n",
        "- We append the extracted `text` to the `extracted_text` list.\n",
        "\n",
        "        # Join all extracted text into a single string\n",
        "        complete_text = '\\n'.join(extracted_text)\n",
        "\n",
        "- After processing all text results from the image, we join them into a single string called `complete_text`, separating each line with a newline character ('\\n').\n",
        "\n",
        "        return complete_text\n",
        "    except Exception as e:\n",
        "        return \"\"\n",
        "\n",
        "- We return the `complete_text` as the result of the function. In case of an error (e.g., if EasyOCR fails to extract text), we return an empty string.\n",
        "\n",
        "\n",
        "# Get a list of image file paths from the folder\n",
        "image_paths = [os.path.join(image_path, filename) for filename in os.listdir(image_path)\n",
        "               if filename.endswith(('.jpg', '.jpeg', '.png'))]\n",
        "\n",
        "- These lines create a list of image file paths by iterating through the files in the specified `image_path` folder and filtering for files with extensions '.jpg', '.jpeg', or '.png'. The `os.path.join()` function is used to create full file paths.\n",
        "\n",
        "# Initialize a progress counter\n",
        "processed_count = 0\n",
        "total_images = len(image_paths)\n",
        "\n",
        "- We initialize variables `processed_count` to keep track of how many images have been processed and `total_images` to store the total number of images to be processed.\n",
        "\n",
        "# Initialize a list to store extracted text from all images\n",
        "all_extracted_text = []\n",
        "\n",
        "- We create an empty list called `all_extracted_text` to store the extracted text from all images.\n",
        "\n",
        "# Process images sequentially\n",
        "for image_path in image_paths:\n",
        "    extracted_text = extract_text_from_image(image_path)\n",
        "    all_extracted_text.append(extracted_text)\n",
        "    processed_count += 1\n",
        "    print(f\"Processed {processed_count}/{total_images} images\")\n",
        "\n",
        "- In this loop, we iterate through the list of image file paths (`image_paths`). For each image, we call the `extract_text_from_image()` function to extract text and append it to `all_extracted_text`. We also update the `processed_count` and print the progress.\n",
        "\n",
        "# Create a DataFrame to store the extracted text\n",
        "df = pd.DataFrame({'Extracted Text': all_extracted_text})\n",
        "\n",
        "- We create a Pandas DataFrame called `df` to organize and store the extracted text. The column name is 'Extracted Text', and we populate it with `all_extracted_text`.\n",
        "\n",
        "\n",
        "# Save the DataFrame to a CSV file\n",
        "df.to_csv('extracted_text.csv', index=False)\n",
        "\n",
        "- We save the DataFrame to a CSV file named 'extracted_text.csv' without including the index.\n",
        "\n",
        "# Print the extracted text from all images\n",
        "for text in all_extracted_text:\n",
        "    print(\"Text from one image:\")\n",
        "    print(text)\n",
        "    print(\"\\n\" + \"=\"*50 + \"\\n\")  # Separator between images\n",
        "\n",
        "- Finally, we print the extracted text from all images one by one, separating each image's text with a line of equal signs for clarity.\n",
        "\n",
        "This code processes a folder of images, extracts the complete text from each image, and saves it to a CSV file while providing progress updates and printing the extracted text for each image."
      ],
      "metadata": {
        "id": "xrY5TG2GQ52l"
      }
    },
    {
      "cell_type": "markdown",
      "source": [],
      "metadata": {
        "id": "63pwumg6RFSO"
      }
    },
    {
      "cell_type": "code",
      "source": [],
      "metadata": {
        "id": "u15O-lKfQ9YE"
      },
      "execution_count": null,
      "outputs": []
    }
  ]
}