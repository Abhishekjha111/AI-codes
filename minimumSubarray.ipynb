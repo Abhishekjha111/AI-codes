{
  "nbformat": 4,
  "nbformat_minor": 0,
  "metadata": {
    "colab": {
      "provenance": [],
      "authorship_tag": "ABX9TyNQgqQiAY09SAQiJ2MbtKqW",
      "include_colab_link": true
    },
    "kernelspec": {
      "name": "python3",
      "display_name": "Python 3"
    },
    "language_info": {
      "name": "python"
    }
  },
  "cells": [
    {
      "cell_type": "markdown",
      "metadata": {
        "id": "view-in-github",
        "colab_type": "text"
      },
      "source": [
        "<a href=\"https://colab.research.google.com/github/Abhishekjha111/AI-codes/blob/master/minimumSubarray.ipynb\" target=\"_parent\"><img src=\"https://colab.research.google.com/assets/colab-badge.svg\" alt=\"Open In Colab\"/></a>"
      ]
    },
    {
      "cell_type": "code",
      "execution_count": null,
      "metadata": {
        "colab": {
          "base_uri": "https://localhost:8080/"
        },
        "id": "H-mZj9HXF-Ve",
        "outputId": "ab10b807-c2b6-484d-c0f6-417d3ae2d226"
      },
      "outputs": [
        {
          "output_type": "stream",
          "name": "stdout",
          "text": [
            "(1, [2])\n"
          ]
        }
      ],
      "source": [
        "\n",
        "def smallestSubarrayWithSum(A, B):\n",
        "    n = len(A)\n",
        "    min_len = float('inf')\n",
        "    coefficients = []\n",
        "\n",
        "    left = 0\n",
        "    current_sum = 0\n",
        "    current_coefficients = []\n",
        "\n",
        "    for right in range(n):\n",
        "        current_sum += A[right]\n",
        "        current_coefficients.append(A[right])\n",
        "\n",
        "        while current_sum >= B:\n",
        "            if len(current_coefficients) < min_len:\n",
        "                min_len = len(current_coefficients)\n",
        "                coefficients = current_coefficients.copy()\n",
        "\n",
        "            current_sum -= A[left]\n",
        "            current_coefficients.pop(0)\n",
        "            left += 1\n",
        "\n",
        "    if min_len == float('inf'):\n",
        "        return -1  # No subarray found\n",
        "\n",
        "    return min_len, coefficients\n",
        "\n",
        "\n",
        "A = [1, 2, 3, 4, 5, 6]\n",
        "B = 2\n",
        "result = smallestSubarrayWithSum(A, B)\n",
        "print(result)"
      ]
    }
  ]
}